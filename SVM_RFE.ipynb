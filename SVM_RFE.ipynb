{
 "cells": [
  {
   "cell_type": "markdown",
   "id": "b0aaec17",
   "metadata": {},
   "source": [
    "# **Recursive Feature Elimination with Support vector machine**\n",
    " ## Table of contents\n",
    ">1. [Dataset](#Dataset)\n",
    ">2. [Support Vector Classifier](#support_vector_classifier)\n",
    ">3. [Recursive feature elemination - Support vector machine](#Recursive_feature_elemination_Support_vector_machine)"
   ]
  },
  {
   "cell_type": "markdown",
   "id": "c832c425",
   "metadata": {},
   "source": [
    "## Library"
   ]
  },
  {
   "cell_type": "code",
   "execution_count": 13,
   "id": "4e1332df",
   "metadata": {
    "ExecuteTime": {
     "end_time": "2023-06-06T15:05:30.876472300Z",
     "start_time": "2023-06-06T15:05:30.842474300Z"
    }
   },
   "outputs": [],
   "source": [
    "import pandas as pd\n",
    "import numpy as np\n",
    "from sklearn.preprocessing import StandardScaler\n",
    "from sklearn.ensemble import RandomForestClassifier\n",
    "from sklearn.svm import SVC\n",
    "from sklearn import svm\n",
    "\n",
    "from sklearn.feature_selection import RFE\n",
    "from sklearn.metrics import accuracy_score\n",
    "from sklearn import metrics"
   ]
  },
  {
   "cell_type": "markdown",
   "id": "6904a21b",
   "metadata": {},
   "source": [
    "## Dataset <a name=\"Dataset\"></a>"
   ]
  },
  {
   "cell_type": "code",
   "execution_count": 14,
   "id": "710c1117",
   "metadata": {
    "ExecuteTime": {
     "end_time": "2023-06-06T15:05:30.980984300Z",
     "start_time": "2023-06-06T15:05:30.850445200Z"
    }
   },
   "outputs": [],
   "source": [
    "X_train = pd.read_csv('./data/X_train.csv').to_numpy()[1:,1:]\n",
    "y_train = pd.read_csv('./data/y_train.csv').to_numpy()[1:,1:].astype('int')\n",
    "X_test = pd.read_csv('./data/X_test.csv').to_numpy()[1:,1:]\n",
    "y_test = pd.read_csv('./data/y_test.csv').to_numpy()[1:,1:].astype('int')"
   ]
  },
  {
   "cell_type": "code",
   "execution_count": 15,
   "id": "e95fa941",
   "metadata": {
    "ExecuteTime": {
     "end_time": "2023-06-06T15:05:30.982017600Z",
     "start_time": "2023-06-06T15:05:30.882443Z"
    }
   },
   "outputs": [
    {
     "data": {
      "text/plain": "(110, 136)"
     },
     "execution_count": 15,
     "metadata": {},
     "output_type": "execute_result"
    }
   ],
   "source": [
    "X_train.shape"
   ]
  },
  {
   "cell_type": "markdown",
   "id": "e44c3d7f",
   "metadata": {},
   "source": [
    "## Support Vector Classifier <a name=\"support_vector_classifier\"></a>"
   ]
  },
  {
   "cell_type": "code",
   "execution_count": 16,
   "id": "1e5ccd87",
   "metadata": {
    "ExecuteTime": {
     "end_time": "2023-06-06T15:05:30.982017600Z",
     "start_time": "2023-06-06T15:05:30.897441700Z"
    }
   },
   "outputs": [],
   "source": [
    "def support_vector_classifier(X_train, y_train, X_test, y_test):\n",
    "    # Apply scale datasets\n",
    "    # create model scale ==> standard scaler\n",
    "    scaler = StandardScaler()\n",
    "    \n",
    "    y_train = y_train.ravel()\n",
    "    y_test = y_test.ravel()\n",
    "    \n",
    "    # fit dataset to model scale\n",
    "    X_train_scl = scaler.fit_transform(X_train)\n",
    "\n",
    "    # SVM model\n",
    "    clf = svm.SVC(kernel=\"linear\",probability=True)\n",
    "    clf.fit(X_train_scl, y_train)\n",
    "    \n",
    "    #predict testing dataset\n",
    "    y_pred = clf.predict(X_test)\n",
    "    \n",
    "    # Predict probability (0, 1) \n",
    "    y_score = clf.predict_proba(X_test)\n",
    "    \n",
    "    # ROC curve: receiver operating characteristic curve\n",
    "    # AUC: Area Under the ROC Curve \n",
    "    fpr, tpr, thresholds = metrics.roc_curve(y_test, y_score[:,1], pos_label=2)\n",
    "    auc = metrics.auc(fpr, tpr)\n",
    "    \n",
    "    accuracy = metrics.accuracy_score(y_test, y_pred)\n",
    "    recall = metrics.recall_score(y_test, y_pred)\n",
    "    tn, fp, fn, tp = metrics.confusion_matrix(y_test, y_pred).ravel()\n",
    "    confusion = (tn, fp, fn, tp)\n",
    "    \n",
    "    return clf, fpr, tpr, thresholds, auc, accuracy, recall, confusion"
   ]
  },
  {
   "cell_type": "markdown",
   "id": "36dcc749",
   "metadata": {},
   "source": [
    "## Recursive feature elemination - Support vector machine  <a name=\"Recursive_feature_elemination_Support_vector_machine\"></a>"
   ]
  },
  {
   "cell_type": "code",
   "execution_count": 17,
   "id": "0b27a3a9",
   "metadata": {
    "ExecuteTime": {
     "end_time": "2023-06-06T15:05:30.982017600Z",
     "start_time": "2023-06-06T15:05:30.913448600Z"
    }
   },
   "outputs": [],
   "source": [
    "def RFE_SVM(X_train, y_train, X_test, y_test, n_feature):\n",
    "    \n",
    "    # Apply scale datasets\n",
    "    # create model scale ==> standard scaler\n",
    "    scaler = StandardScaler()\n",
    "    # fit dataset to model scale\n",
    "    X_train_scl = scaler.fit_transform(X_train)\n",
    "    y_train = y_train.ravel()\n",
    "    y_test = y_test.ravel()\n",
    "    \n",
    "    # SVM estimator\n",
    "    SVM = SVC(kernel=\"linear\", probability=True)\n",
    "\n",
    "    # SVM model\n",
    "    rfe = RFE(estimator=SVM, n_features_to_select=n_feature, step=1, verbose=1)\n",
    "    rfe.fit_transform(X_train_scl, y_train)\n",
    "    \n",
    "    # Reduce X to the selected features.\n",
    "    X_train_reduce = rfe.transform(X_train)\n",
    "    X_test_reduce = rfe.transform(X_test)\n",
    "    \n",
    "    clf, fpr, tpr, thresholds, auc, accuracy, recall, confusion = support_vector_classifier(X_train_reduce, y_train, X_test_reduce, y_test)    \n",
    "    \n",
    "    return rfe, clf, fpr, tpr, thresholds, auc, accuracy, recall, confusion"
   ]
  },
  {
   "cell_type": "code",
   "execution_count": 18,
   "id": "e39a5416",
   "metadata": {
    "ExecuteTime": {
     "end_time": "2023-06-06T15:05:30.982985200Z",
     "start_time": "2023-06-06T15:05:30.930984900Z"
    }
   },
   "outputs": [],
   "source": [
    "rfe, clf, fpr, tpr, thresholds, auc, accuracy, recall, confusion = RFE_SVM(X_train, y_train, X_test, y_test, 170)"
   ]
  },
  {
   "cell_type": "code",
   "execution_count": 19,
   "id": "d183b2ad",
   "metadata": {
    "scrolled": true,
    "ExecuteTime": {
     "end_time": "2023-06-06T15:05:31.010991200Z",
     "start_time": "2023-06-06T15:05:30.978983500Z"
    }
   },
   "outputs": [
    {
     "data": {
      "text/plain": "array([  0,   1,   2,   3,   4,   5,   6,   7,   8,   9,  10,  11,  12,\n        13,  14,  15,  16,  17,  18,  19,  20,  21,  22,  23,  24,  25,\n        26,  27,  28,  29,  30,  31,  32,  33,  34,  35,  36,  37,  38,\n        39,  40,  41,  42,  43,  44,  45,  46,  47,  48,  49,  50,  51,\n        52,  53,  54,  55,  56,  57,  58,  59,  60,  61,  62,  63,  64,\n        65,  66,  67,  68,  69,  70,  71,  72,  73,  74,  75,  76,  77,\n        78,  79,  80,  81,  82,  83,  84,  85,  86,  87,  88,  89,  90,\n        91,  92,  93,  94,  95,  96,  97,  98,  99, 100, 101, 102, 103,\n       104, 105, 106, 107, 108, 109, 110, 111, 112, 113, 114, 115, 116,\n       117, 118, 119, 120, 121, 122, 123, 124, 125, 126, 127, 128, 129,\n       130, 131, 132, 133, 134, 135])"
     },
     "execution_count": 19,
     "metadata": {},
     "output_type": "execute_result"
    }
   ],
   "source": [
    "features = np.arange(0, X_train.shape[1], 1, dtype=int)\n",
    "selected_features = np.array(features)[rfe.get_support()]\n",
    "selected_features"
   ]
  },
  {
   "cell_type": "code",
   "execution_count": 20,
   "id": "86ee2791",
   "metadata": {
    "ExecuteTime": {
     "end_time": "2023-06-06T15:05:31.100378900Z",
     "start_time": "2023-06-06T15:05:30.995985200Z"
    }
   },
   "outputs": [
    {
     "data": {
      "text/plain": "0.4034090909090909"
     },
     "execution_count": 20,
     "metadata": {},
     "output_type": "execute_result"
    }
   ],
   "source": [
    "auc"
   ]
  },
  {
   "cell_type": "code",
   "execution_count": 21,
   "id": "e7d306db",
   "metadata": {
    "ExecuteTime": {
     "end_time": "2023-06-06T15:05:31.109373Z",
     "start_time": "2023-06-06T15:05:31.010991200Z"
    }
   },
   "outputs": [
    {
     "data": {
      "text/plain": "array([0.    , 0.    , 0.0625, 0.0625, 0.1875, 0.1875, 0.375 , 0.375 ,\n       0.5   , 0.5   , 0.75  , 0.75  , 0.9375, 0.9375, 1.    ])"
     },
     "execution_count": 21,
     "metadata": {},
     "output_type": "execute_result"
    }
   ],
   "source": [
    "tpr"
   ]
  },
  {
   "cell_type": "code",
   "execution_count": 22,
   "id": "d35404eb",
   "metadata": {
    "ExecuteTime": {
     "end_time": "2023-06-06T15:05:31.109373Z",
     "start_time": "2023-06-06T15:05:31.025499400Z"
    }
   },
   "outputs": [
    {
     "data": {
      "text/plain": "array([0.        , 0.09090909, 0.09090909, 0.18181818, 0.18181818,\n       0.45454545, 0.45454545, 0.54545455, 0.54545455, 0.72727273,\n       0.72727273, 0.90909091, 0.90909091, 1.        , 1.        ])"
     },
     "execution_count": 22,
     "metadata": {},
     "output_type": "execute_result"
    }
   ],
   "source": [
    "fpr"
   ]
  },
  {
   "cell_type": "code",
   "execution_count": 23,
   "id": "39ec4e79",
   "metadata": {
    "ExecuteTime": {
     "end_time": "2023-06-06T15:05:31.109373Z",
     "start_time": "2023-06-06T15:05:31.040506600Z"
    }
   },
   "outputs": [
    {
     "name": "stdout",
     "output_type": "stream",
     "text": [
      "(1, 10, 2, 14)\n"
     ]
    }
   ],
   "source": [
    "print(confusion)"
   ]
  },
  {
   "cell_type": "code",
   "execution_count": 24,
   "id": "f0a4bea4",
   "metadata": {
    "ExecuteTime": {
     "end_time": "2023-06-06T15:05:31.110378900Z",
     "start_time": "2023-06-06T15:05:31.056507400Z"
    }
   },
   "outputs": [],
   "source": [
    "# n_feature = []\n",
    "# auc_arr = []\n",
    "# accuracy_arr = []\n",
    "# recall_arr = []\n",
    "# for i in range(50, 550, 50):\n",
    "#     number_feature_to_select = i\n",
    "#     rfe, clf, fpr, tpr, thresholds, auc, accuracy, recall = RFE_SVM(X_train, y_train, X_test, y_test, number_feature_to_select)\n",
    "#     print(i)\n",
    "#     n_feature.append(i)\n",
    "#     auc_arr.append(auc)\n",
    "#     accuracy_arr.append(accuracy)\n",
    "#     recall_arr.append(recall)"
   ]
  },
  {
   "cell_type": "code",
   "execution_count": 25,
   "id": "3c925a2b",
   "metadata": {
    "ExecuteTime": {
     "end_time": "2023-06-06T15:05:31.110378900Z",
     "start_time": "2023-06-06T15:05:31.071506800Z"
    }
   },
   "outputs": [],
   "source": [
    "# print(n_feature)"
   ]
  },
  {
   "cell_type": "code",
   "execution_count": 26,
   "id": "9e4c44fe",
   "metadata": {
    "ExecuteTime": {
     "end_time": "2023-06-06T15:05:31.110378900Z",
     "start_time": "2023-06-06T15:05:31.086537600Z"
    }
   },
   "outputs": [],
   "source": [
    "# print(auc_arr)"
   ]
  },
  {
   "cell_type": "code",
   "execution_count": 27,
   "id": "69b9042a",
   "metadata": {
    "ExecuteTime": {
     "end_time": "2023-06-06T15:05:31.118379Z",
     "start_time": "2023-06-06T15:05:31.102373600Z"
    }
   },
   "outputs": [],
   "source": [
    "# print(accuracy_arr)"
   ]
  },
  {
   "cell_type": "code",
   "execution_count": 28,
   "id": "d1fc490e",
   "metadata": {
    "ExecuteTime": {
     "end_time": "2023-06-06T15:05:31.162587300Z",
     "start_time": "2023-06-06T15:05:31.120379600Z"
    }
   },
   "outputs": [],
   "source": [
    "# print(recall_arr)"
   ]
  }
 ],
 "metadata": {
  "kernelspec": {
   "display_name": "Python 3 (ipykernel)",
   "language": "python",
   "name": "python3"
  },
  "language_info": {
   "codemirror_mode": {
    "name": "ipython",
    "version": 3
   },
   "file_extension": ".py",
   "mimetype": "text/x-python",
   "name": "python",
   "nbconvert_exporter": "python",
   "pygments_lexer": "ipython3",
   "version": "3.9.12"
  }
 },
 "nbformat": 4,
 "nbformat_minor": 5
}
