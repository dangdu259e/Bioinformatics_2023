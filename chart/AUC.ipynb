{
 "cells": [
  {
   "cell_type": "code",
   "execution_count": 1,
   "id": "c2832ce2",
   "metadata": {},
   "outputs": [],
   "source": [
    "import pandas as pd\n",
    "import numpy as np\n",
    "from sklearn.preprocessing import StandardScaler\n",
    "from sklearn.ensemble import RandomForestClassifier\n",
    "from sklearn.feature_selection import RFE\n",
    "from sklearn.metrics import accuracy_score\n",
    "from sklearn import metrics"
   ]
  },
  {
   "cell_type": "code",
   "execution_count": 2,
   "id": "ea1d7ad2",
   "metadata": {},
   "outputs": [],
   "source": [
    "X_train = pd.read_csv('../../data/dataset/NoQC/X_train.csv').to_numpy()\n",
    "y_train = pd.read_csv('../../data/dataset/NoQC/y_train.csv').to_numpy()\n",
    "X_test = pd.read_csv('../../data/dataset/NoQC/X_test.csv').to_numpy()\n",
    "y_test = pd.read_csv('../../data/dataset/NoQC/y_test.csv').to_numpy()"
   ]
  },
  {
   "cell_type": "code",
   "execution_count": 3,
   "id": "c1d8c697",
   "metadata": {},
   "outputs": [],
   "source": [
    "def random_forest_classifier(X_train, y_train, X_test, y_test):\n",
    "    # Apply scale datasets\n",
    "    # create model scale ==> standard scaler\n",
    "    scaler = StandardScaler()   \n",
    "    # fit dataset to model scale\n",
    "    X_train_scl = scaler.fit_transform(X_train)\n",
    "    X_test_scl = scaler.fit_transform(X_test)\n",
    "    \n",
    "    # convert matrix 2d -> 1d (by flatten method)    \n",
    "    y_train = y_train.ravel()\n",
    "    y_test = y_test.ravel()\n",
    "    \n",
    "    # Random forest classifier model\n",
    "    rf = RandomForestClassifier(random_state=0, n_jobs=-1)\n",
    "    rf.fit(X_train_scl, y_train)\n",
    "    \n",
    "    # Predict testing dataset\n",
    "    y_pred = rf.predict(X_test)\n",
    "    \n",
    "    # Predict probability (0, 1) \n",
    "    y_score = rf.predict_proba(X_test)\n",
    "    \n",
    "    # ROC curve: receiver operating characteristic curve\n",
    "    # AUC: Area Under the ROC Curve \n",
    "    fpr, tpr, thresholds = metrics.roc_curve(y_test, y_score[:,1], pos_label=2)\n",
    "    auc = metrics.auc(fpr, tpr)\n",
    "        \n",
    "    return rf, fpr, tpr, thresholds, auc"
   ]
  },
  {
   "cell_type": "code",
   "execution_count": 4,
   "id": "6077aa74",
   "metadata": {},
   "outputs": [],
   "source": [
    "def RFE_RF(X_train, y_train, X_test, y_test, n_feature):\n",
    "    \n",
    "    # Apply scale datasets\n",
    "    # create model scale ==> standard scaler\n",
    "    scaler = StandardScaler()\n",
    "    # fit dataset to model scale\n",
    "    X_train_scl = scaler.fit_transform(X_train)\n",
    "    y_train = y_train.ravel()\n",
    "    y_test = y_test.ravel()\n",
    "    \n",
    "    # Random forest classifier estimator\n",
    "    rf = RandomForestClassifier(random_state=0, n_jobs=-1)\n",
    "    \n",
    "    # RFE model\n",
    "    rfe = RFE(estimator=rf, n_features_to_select=n_feature, step=1, verbose=1)\n",
    "    rfe.fit_transform(X_train_scl, y_train)\n",
    "    \n",
    "    # Reduce X to the selected features.\n",
    "    X_train_reduce = rfe.transform(X_train)\n",
    "    X_test_reduce = rfe.transform(X_test)\n",
    "    \n",
    "    rf, fpr, tpr, thresholds, auc = random_forest_classifier(X_train_reduce, y_train, X_test_reduce, y_test)\n",
    "    return rfe, rf, fpr, tpr, thresholds, auc"
   ]
  },
  {
   "cell_type": "code",
   "execution_count": 5,
   "id": "76b92370",
   "metadata": {},
   "outputs": [],
   "source": [
    "# number_feature_to_select = 390 "
   ]
  },
  {
   "cell_type": "code",
   "execution_count": 6,
   "id": "10348243",
   "metadata": {
    "scrolled": true
   },
   "outputs": [],
   "source": [
    "# rfe_rf, rf, fpr, tpr, thresholds, auc = RFE_RF(X_train, y_train, X_test, y_test, number_feature_to_select)"
   ]
  },
  {
   "cell_type": "code",
   "execution_count": 7,
   "id": "ef7b5b61",
   "metadata": {},
   "outputs": [],
   "source": [
    "# print(\"False Positive Rate (fpr): \")\n",
    "# print(fpr)"
   ]
  },
  {
   "cell_type": "code",
   "execution_count": 8,
   "id": "4095545c",
   "metadata": {},
   "outputs": [],
   "source": [
    "# fpr"
   ]
  },
  {
   "cell_type": "code",
   "execution_count": 9,
   "id": "123a792f",
   "metadata": {},
   "outputs": [],
   "source": [
    "# print(\"True Positive Rate (tpr): \")\n",
    "# print(tpr)"
   ]
  },
  {
   "cell_type": "code",
   "execution_count": 10,
   "id": "3fd99e52",
   "metadata": {},
   "outputs": [],
   "source": [
    "# tpr"
   ]
  },
  {
   "cell_type": "code",
   "execution_count": 11,
   "id": "524977d2",
   "metadata": {},
   "outputs": [],
   "source": [
    "# print(\"AUC:\", auc)"
   ]
  },
  {
   "cell_type": "code",
   "execution_count": 12,
   "id": "ab2ad471",
   "metadata": {},
   "outputs": [],
   "source": [
    "# RF_RFE\n",
    "\n",
    "tpr_rf = [0.    , 0.0625, 0.125 , 0.25  , 0.25  , 0.25  , 0.3125, 0.4375,\n",
    "       0.8125, 0.8125, 0.875 , 0.875 , 0.9375, 0.9375, 1.    , 1.    ]\n",
    "\n",
    "fpr_rf = [0.        , 0.        , 0.        , 0.08333333, 0.16666667,\n",
    "       0.33333333, 0.41666667, 0.41666667, 0.41666667, 0.5       ,\n",
    "       0.5       , 0.75      , 0.75      , 0.83333333, 0.83333333,\n",
    "       1.        ]\n",
    "\n",
    "auc_rf = 0.6328125"
   ]
  },
  {
   "cell_type": "code",
   "execution_count": 13,
   "id": "30ed4f5e",
   "metadata": {},
   "outputs": [
    {
     "data": {
      "text/plain": [
       "16"
      ]
     },
     "execution_count": 13,
     "metadata": {},
     "output_type": "execute_result"
    }
   ],
   "source": [
    "len(fpr_rf)\n"
   ]
  },
  {
   "cell_type": "code",
   "execution_count": 14,
   "id": "f693b4d2",
   "metadata": {},
   "outputs": [],
   "source": [
    "# SVM_RFE\n",
    "tpr_svm = [0.    , 0.    , 0.125 , 0.125 , 0.25  , 0.25  , 0.375 , 0.375 ,\n",
    "       0.4375, 0.4375, 0.5625, 0.5625, 0.8125, 0.8125, 1.    ]\n",
    "fpr_svm = [0.        , 0.08333333, 0.08333333, 0.25      , 0.25      ,\n",
    "       0.33333333, 0.33333333, 0.58333333, 0.58333333, 0.83333333,\n",
    "       0.83333333, 0.91666667, 0.91666667, 1.        , 1.        ]\n",
    "\n",
    "auc_svm = 0.359375"
   ]
  },
  {
   "cell_type": "code",
   "execution_count": 15,
   "id": "6752df78",
   "metadata": {},
   "outputs": [],
   "source": [
    "# Logistic\n",
    "\n",
    "fpr_lr= [0.        , 0.        , 0.25      , 0.25      , 0.33333333,\n",
    "       0.33333333, 0.41666667, 0.41666667, 0.5       , 0.5       ,\n",
    "       0.75      , 0.75      , 1.        , 1.        ]\n",
    "\n",
    "tpr_lr = [0.    , 0.0625, 0.0625, 0.3125, 0.3125, 0.375 , 0.375 , 0.5   ,\n",
    "       0.5   , 0.625 , 0.625 , 0.75  , 0.75  , 1.    ]\n",
    "\n",
    "auc_lr = 0.4583333333333333"
   ]
  },
  {
   "cell_type": "code",
   "execution_count": 16,
   "id": "e5b3cff8",
   "metadata": {
    "scrolled": false
   },
   "outputs": [
    {
     "data": {
      "image/png": "[encoded data removed]",
      "text/plain": [
       "<Figure size 432x288 with 1 Axes>"
      ]
     },
     "metadata": {
      "needs_background": "light"
     },
     "output_type": "display_data"
    }
   ],
   "source": [
    "import matplotlib.pyplot as plt\n",
    "from itertools import cycle\n",
    "\n",
    "linewidth = 2\n",
    "fig, ax = plt.subplots()\n",
    "\n",
    "RF_RFE_line = ax.plot(fpr_rf, tpr_rf, color='darkorange',linewidth=linewidth, label='RF_RFE(AUC score = %0.2f)' %auc_rf)\n",
    "SVM_RFE_line = ax.plot(fpr_svm, tpr_svm, color='darkgreen',linewidth=linewidth, label='SVM_RFE(AUC score = %0.2f)' %auc_svm)\n",
    "LR_line = ax.plot(fpr_lr, tpr_lr, color='darkred',linewidth=linewidth, label='LR (AUC score = %0.2f)' %auc_lr)\n",
    "\n",
    "line = ax.plot([0, 1], [0, 1], color='navy', linewidth=linewidth, linestyle='--')\n",
    "\n",
    "plt.xlim([0.0, 1.0])\n",
    "plt.ylim([0.0, 1.05])\n",
    "\n",
    "ax.set_xlabel('False Positive Rate (FPR)')\n",
    "ax.set_ylabel('True Positive Rate (TPR)')\n",
    "\n",
    "ax.set_title('Receiver operating characteristic ROC ')\n",
    "ax.legend(loc=\"lower right\")\n",
    "plt.savefig('./save_chart/ROC.png')\n",
    "plt.show()"
   ]
  },
  {
   "cell_type": "code",
   "execution_count": null,
   "id": "c9224964",
   "metadata": {},
   "outputs": [],
   "source": []
  }
 ],
 "metadata": {
  "kernelspec": {
   "display_name": "Python 3 (ipykernel)",
   "language": "python",
   "name": "python3"
  },
  "language_info": {
   "codemirror_mode": {
    "name": "ipython",
    "version": 3
   },
   "file_extension": ".py",
   "mimetype": "text/x-python",
   "name": "python",
   "nbconvert_exporter": "python",
   "pygments_lexer": "ipython3",
   "version": "3.9.12"
  }
 },
 "nbformat": 4,
 "nbformat_minor": 5
}
