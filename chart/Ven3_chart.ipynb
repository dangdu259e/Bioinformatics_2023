{
 "cells": [
  {
   "cell_type": "code",
   "execution_count": 53,
   "id": "81c7e45d",
   "metadata": {},
   "outputs": [],
   "source": [
    "# 390\n",
    "selected_feature_RF_RFE = [  7,   8,   9,  10,  11,  12,  13,  14,  15,  16,  17,  18,  19,\n",
    "        20,  21,  22,  23,  24,  25,  26,  27,  28,  29,  30,  31,  32,\n",
    "        33,  34,  35,  36,  37,  38,  39,  40,  41,  42,  43,  44,  45,\n",
    "        46,  47,  48,  49,  50,  51,  52,  53,  54,  55,  56,  57,  58,\n",
    "        59,  60,  61,  62,  63,  64,  65,  66,  67,  68,  69,  70,  71,\n",
    "        72,  73,  74,  75,  76,  77,  78,  79,  80,  81,  82,  83,  84,\n",
    "        85,  86,  87,  88,  89,  90,  91,  92,  93,  94,  95,  96,  97,\n",
    "        98,  99, 100, 101, 102, 103, 104, 105, 106, 107, 108, 109, 110,\n",
    "       111, 112, 113, 114, 115, 116, 117, 118, 119, 120, 121, 122, 123,\n",
    "       124, 125, 126, 127, 128, 129, 130, 131, 132, 133, 135, 136, 137,\n",
    "       139, 140, 141, 142, 143, 144, 145, 146, 148, 149, 150, 151, 152,\n",
    "       153, 154, 155, 156, 157, 158, 160, 161, 162, 163, 164, 165, 166,\n",
    "       167, 168, 169, 171, 172, 173, 174, 176, 178, 179, 180, 181, 182,\n",
    "       183, 185, 186, 187, 188, 189, 190, 191, 192, 193, 195, 196, 197,\n",
    "       198, 200, 201, 202, 205, 206, 207, 208, 210, 211, 212, 213, 214,\n",
    "       216, 218, 219, 220, 221, 222, 223, 224, 225, 226, 227, 228, 230,\n",
    "       232, 233, 234, 235, 236, 237, 238, 239, 240, 241, 242, 243, 244,\n",
    "       245, 246, 247, 248, 249, 250, 251, 252, 253, 254, 255, 256, 257,\n",
    "       258, 259, 260, 261, 262, 263, 264, 265, 266, 267, 268, 269, 270,\n",
    "       271, 272, 273, 279, 297, 298, 306, 307, 308, 309, 310, 311, 312,\n",
    "       313, 314, 315, 316, 317, 318, 319, 320, 321, 322, 323, 324, 325,\n",
    "       326, 327, 328, 329, 330, 331, 332, 333, 334, 335, 336, 337, 338,\n",
    "       339, 340, 341, 342, 343, 344, 345, 346, 347, 348, 349, 350, 351,\n",
    "       352, 353, 354, 356, 357, 358, 359, 360, 361, 362, 363, 364, 365,\n",
    "       367, 368, 369, 370, 371, 372, 373, 374, 375, 376, 377, 378, 379,\n",
    "       380, 381, 382, 383, 384, 385, 386, 387, 388, 390, 391, 392, 393,\n",
    "       394, 395, 396, 397, 398, 399, 400, 401, 402, 403, 404, 405, 406,\n",
    "       407, 408, 409, 410, 411, 412, 413, 414, 415, 417, 418, 419, 420,\n",
    "       421, 422, 423, 424, 425, 426, 427, 428, 429, 430, 431, 432, 433,\n",
    "       434, 435, 436, 437, 438, 439, 440, 442, 443, 444, 445, 447, 448,\n",
    "       449, 451, 452, 453, 454, 455, 456, 457, 458, 459, 460, 461, 463,\n",
    "       464, 465, 468, 469, 470, 471, 472, 473, 474, 475, 476, 480, 481,\n",
    "       483, 484, 485, 486, 487, 488, 490, 491, 492, 494, 495, 496, 497,\n",
    "       499, 500, 502, 503, 504, 505, 506, 507, 508, 509, 510, 511, 512,\n",
    "       513, 514, 515, 516, 517, 519, 520, 521, 523, 524, 526, 530, 531,\n",
    "       532, 534, 536, 537, 540, 541, 542, 543, 544, 546, 547, 548, 550,\n",
    "       551, 552, 553, 554, 555, 556, 557, 558, 559, 560, 561, 562, 563,\n",
    "       564, 565, 566, 567, 568, 569, 570, 571, 572, 573, 574, 575, 576,\n",
    "       577, 578, 579, 580, 581, 582]"
   ]
  },
  {
   "cell_type": "code",
   "execution_count": 54,
   "id": "dedb357f",
   "metadata": {},
   "outputs": [],
   "source": [
    "# 170\n",
    "selected_feature_SVM_RFE = [  7,   8,  15,  18,  23,  24,  26,  30,  34,  35,  38,  41,  44,\n",
    "        46,  58,  64,  68,  69,  72,  78,  82,  84,  86, 103, 106, 107,\n",
    "       108, 110, 112, 114, 115, 116, 118, 129, 132, 135, 136, 142, 154,\n",
    "       155, 156, 157, 158, 162, 168, 169, 172, 173, 176, 186, 187, 189,\n",
    "       191, 195, 210, 214, 215, 220, 221, 222, 223, 224, 225, 230, 231,\n",
    "       233, 234, 236, 237, 238, 239, 240, 241, 242, 243, 246, 247, 248,\n",
    "       249, 250, 251, 255, 262, 263, 274, 279, 280, 292, 297, 302, 306,\n",
    "       313, 314, 317, 322, 324, 325, 332, 335, 336, 341, 342, 343, 344,\n",
    "       345, 347, 354, 358, 360, 361, 366, 367, 369, 375, 380, 388, 392,\n",
    "       395, 401, 406, 407, 408, 410, 418, 419, 421, 430, 435, 436, 439,\n",
    "       440, 444, 452, 453, 462, 464, 466, 470, 473, 480, 483, 485, 486,\n",
    "       492, 494, 506, 511, 515, 516, 517, 533, 534, 535, 537, 545, 549,\n",
    "       550, 551, 553, 555, 557, 558, 564, 565, 567, 574, 575, 582, 590,\n",
    "       601]"
   ]
  },
  {
   "cell_type": "code",
   "execution_count": 55,
   "id": "29f1f209",
   "metadata": {},
   "outputs": [],
   "source": [
    "# 97\n",
    "selected_feature_LR = [  7,   8,  15,  26,  30,  31,  34,  38,  41,  46,  54,  68,  69,\n",
    "        72,  78, 103, 106, 107, 108, 110, 112, 114, 115, 122, 124, 125,\n",
    "       129, 132, 153, 154, 155, 157, 158, 162, 172, 214, 221, 224, 226,\n",
    "       230, 232, 233, 234, 236, 237, 239, 240, 241, 243, 247, 250, 266,\n",
    "       268, 269, 272, 279, 306, 314, 317, 324, 326, 327, 335, 336, 342,\n",
    "       358, 380, 401, 406, 407, 421, 434, 435, 439, 440, 445, 458, 480,\n",
    "       483, 485, 486, 492, 506, 515, 516, 517, 546, 547, 550, 551, 553,\n",
    "       564, 567, 574, 575, 582, 604]"
   ]
  },
  {
   "cell_type": "code",
   "execution_count": 56,
   "id": "e831370e",
   "metadata": {
    "scrolled": true
   },
   "outputs": [
    {
     "data": {
      "image/png": "[encoded data removed]",
      "text/plain": [
       "<Figure size 432x288 with 1 Axes>"
      ]
     },
     "metadata": {},
     "output_type": "display_data"
    }
   ],
   "source": [
    "import matplotlib.pyplot as plt\n",
    "from matplotlib_venn import venn3\n",
    "\n",
    "selected_feature_RF_RFE = set(selected_feature_RF_RFE)\n",
    "selected_feature_SVM_RFE = set(selected_feature_SVM_RFE)\n",
    "selected_feature_LR = set(selected_feature_LR)\n",
    "\n",
    "venn3([selected_feature_RF_RFE, selected_feature_SVM_RFE, selected_feature_LR], ('RF_RFE', 'SVM_RFE', 'LR'))\n",
    "plt.savefig('./save_chart/ven3.png')\n",
    "plt.show()"
   ]
  },
  {
   "cell_type": "code",
   "execution_count": 57,
   "id": "94e67df2",
   "metadata": {
    "scrolled": true
   },
   "outputs": [
    {
     "name": "stdout",
     "output_type": "stream",
     "text": [
      "[515, 516, 517, 7, 8, 15, 26, 30, 34, 38, 550, 551, 41, 553, 46, 564, 567, 574, 575, 68, 69, 582, 72, 78, 103, 106, 107, 108, 110, 112, 114, 115, 129, 132, 154, 155, 157, 158, 162, 172, 214, 221, 224, 230, 233, 234, 236, 237, 239, 240, 241, 243, 247, 250, 279, 306, 314, 317, 324, 335, 336, 342, 358, 380, 401, 406, 407, 421, 435, 439, 440, 480, 483, 485, 486, 492, 506]\n"
     ]
    }
   ],
   "source": [
    "# 77 đặc trưng trùng lặp ở cả 3 mô hình\n",
    "\n",
    "feature_selected_3model = list(set(selected_feature_RF_RFE) & set(selected_feature_SVM_RFE) & set(selected_feature_LR))\n",
    "print(feature_selected_3model)"
   ]
  },
  {
   "cell_type": "markdown",
   "id": "293d8b5b",
   "metadata": {},
   "source": [
    "# Sử dụng 77 đặc trưng trùng lặp tính toán lại giá trị AUC"
   ]
  },
  {
   "cell_type": "code",
   "execution_count": 58,
   "id": "c82367d6",
   "metadata": {},
   "outputs": [],
   "source": [
    "import pandas as pd\n",
    "import numpy as np\n",
    "from sklearn.preprocessing import StandardScaler\n",
    "from sklearn.ensemble import RandomForestClassifier\n",
    "from sklearn.feature_selection import RFE\n",
    "from sklearn.metrics import accuracy_score\n",
    "from sklearn import metrics\n",
    "\n",
    "X_train = pd.read_csv('../X_train.csv').to_numpy()\n",
    "y_train = pd.read_csv('../y_train.csv').to_numpy()\n",
    "X_test = pd.read_csv('../X_test.csv').to_numpy()\n",
    "y_test = pd.read_csv('../y_test.csv').to_numpy()"
   ]
  },
  {
   "cell_type": "code",
   "execution_count": 59,
   "id": "2e9d344a",
   "metadata": {},
   "outputs": [],
   "source": [
    "# kiểm tra với mô hình random_forest_classifier\n",
    "def random_forest_classifier(X_train, y_train, X_test, y_test, feature_selected_3model):\n",
    "    \n",
    "    X_train = X_train[:,feature_selected_3model]\n",
    "    X_test = X_test[:,feature_selected_3model]\n",
    "    \n",
    "    # Apply scale datasets\n",
    "    # create model scale ==> standard scaler\n",
    "    scaler = StandardScaler()   \n",
    "    # fit dataset to model scale\n",
    "    X_train_scl = scaler.fit_transform(X_train)\n",
    "    X_test_scl = scaler.fit_transform(X_test)\n",
    "    \n",
    "    # convert matrix 2d -> 1d (by flatten method)    \n",
    "    y_train = y_train.ravel()\n",
    "    y_test = y_test.ravel()\n",
    "    \n",
    "    # Random forest classifier model\n",
    "    rf = RandomForestClassifier(random_state=0, n_jobs=-1)\n",
    "    rf.fit(X_train_scl, y_train)\n",
    "    \n",
    "    # Predict testing dataset\n",
    "    y_pred = rf.predict(X_test)\n",
    "    \n",
    "    # Predict probability (0, 1) \n",
    "    y_score = rf.predict_proba(X_test)\n",
    "    \n",
    "    # ROC curve: receiver operating characteristic curve\n",
    "    # AUC: Area Under the ROC Curve \n",
    "    fpr, tpr, thresholds = metrics.roc_curve(y_test, y_score[:,1], pos_label=2)\n",
    "    auc = metrics.auc(fpr, tpr)\n",
    "    \n",
    "    accuracy = metrics.accuracy_score(y_test, y_pred)\n",
    "    recall = metrics.recall_score(y_test, y_pred)\n",
    "    \n",
    "    \n",
    "    return rf, fpr, tpr, thresholds, auc, accuracy, recall"
   ]
  },
  {
   "cell_type": "code",
   "execution_count": 60,
   "id": "9df27030",
   "metadata": {},
   "outputs": [],
   "source": [
    "rf, fpr, tpr, thresholds, auc, accuracy, recall = random_forest_classifier(X_train, y_train, X_test, y_test, feature_selected_3model)"
   ]
  },
  {
   "cell_type": "code",
   "execution_count": 61,
   "id": "07fe154a",
   "metadata": {},
   "outputs": [
    {
     "data": {
      "text/plain": [
       "0.4270833333333333"
      ]
     },
     "execution_count": 61,
     "metadata": {},
     "output_type": "execute_result"
    }
   ],
   "source": [
    "auc"
   ]
  },
  {
   "cell_type": "code",
   "execution_count": 62,
   "id": "463a0898",
   "metadata": {},
   "outputs": [
    {
     "data": {
      "text/plain": [
       "0.35714285714285715"
      ]
     },
     "execution_count": 62,
     "metadata": {},
     "output_type": "execute_result"
    }
   ],
   "source": [
    "accuracy"
   ]
  },
  {
   "cell_type": "code",
   "execution_count": 63,
   "id": "7c6cbcd9",
   "metadata": {},
   "outputs": [
    {
     "data": {
      "text/plain": [
       "0.6666666666666666"
      ]
     },
     "execution_count": 63,
     "metadata": {},
     "output_type": "execute_result"
    }
   ],
   "source": [
    "recall"
   ]
  },
  {
   "cell_type": "code",
   "execution_count": 64,
   "id": "d615b795",
   "metadata": {},
   "outputs": [
    {
     "data": {
      "image/png": "[encoded data removed]",
      "text/plain": [
       "<Figure size 432x288 with 1 Axes>"
      ]
     },
     "metadata": {
      "needs_background": "light"
     },
     "output_type": "display_data"
    }
   ],
   "source": [
    "# vẽ biểu đồ AUC\n",
    "import matplotlib.pyplot as plt\n",
    "from itertools import cycle\n",
    "\n",
    "linewidth = 2\n",
    "fig, ax = plt.subplots()\n",
    "\n",
    "RF_RFE_line = ax.plot(fpr, tpr, color='darkorange',linewidth=linewidth, label='RF(AUC score = %0.2f)' %auc)\n",
    "\n",
    "line = ax.plot([0, 1], [0, 1], color='navy', linewidth=linewidth, linestyle='--')\n",
    "plt.xlim([0.0, 1.0])\n",
    "plt.ylim([0.0, 1.05])\n",
    "\n",
    "ax.set_xlabel('False Positive Rate (FPR)')\n",
    "ax.set_ylabel('True Positive Rate (TPR)')\n",
    "\n",
    "ax.set_title('Receiver operating characteristic ROC ')\n",
    "ax.legend(loc=\"lower right\")\n",
    "plt.show()"
   ]
  }
 ],
 "metadata": {
  "kernelspec": {
   "display_name": "Python 3 (ipykernel)",
   "language": "python",
   "name": "python3"
  },
  "language_info": {
   "codemirror_mode": {
    "name": "ipython",
    "version": 3
   },
   "file_extension": ".py",
   "mimetype": "text/x-python",
   "name": "python",
   "nbconvert_exporter": "python",
   "pygments_lexer": "ipython3",
   "version": "3.9.12"
  }
 },
 "nbformat": 4,
 "nbformat_minor": 5
}
