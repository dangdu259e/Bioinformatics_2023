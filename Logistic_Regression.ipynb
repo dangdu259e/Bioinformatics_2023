{
 "cells": [
  {
   "cell_type": "markdown",
   "id": "80c98763",
   "metadata": {},
   "source": [
    "# **Logistic Regression**\n",
    " ## Table of contents\n",
    ">1. [Dataset](#Dataset)\n",
    ">2. [Logistic Regression](#Logistic_Regression)"
   ]
  },
  {
   "cell_type": "markdown",
   "id": "aec27088",
   "metadata": {},
   "source": [
    "## Library"
   ]
  },
  {
   "cell_type": "code",
   "execution_count": 1,
   "id": "c1a5f977",
   "metadata": {
    "ExecuteTime": {
     "end_time": "2023-06-04T12:30:26.371680300Z",
     "start_time": "2023-06-04T12:30:24.568862500Z"
    }
   },
   "outputs": [],
   "source": [
    "import pandas as pd\n",
    "import numpy as np\n",
    "from sklearn.preprocessing import StandardScaler\n",
    "from sklearn.ensemble import RandomForestClassifier\n",
    "from sklearn.linear_model import LogisticRegression\n",
    "from sklearn.feature_selection import RFE\n",
    "from sklearn.metrics import accuracy_score\n",
    "from sklearn import metrics"
   ]
  },
  {
   "cell_type": "markdown",
   "id": "b5db7e46",
   "metadata": {},
   "source": [
    "## Dataset <a name=\"Dataset\"></a>"
   ]
  },
  {
   "cell_type": "code",
   "execution_count": 2,
   "id": "27957171",
   "metadata": {},
   "outputs": [],
   "source": [
    "X_train = pd.read_csv('./data/X_train.csv').to_numpy()\n",
    "y_train = pd.read_csv('./data/y_train.csv').to_numpy()\n",
    "X_test = pd.read_csv('./data/X_test.csv').to_numpy()\n",
    "y_test = pd.read_csv('./data/y_test.csv').to_numpy()"
   ]
  },
  {
   "cell_type": "code",
   "execution_count": 3,
   "id": "5324c703",
   "metadata": {
    "scrolled": true
   },
   "outputs": [
    {
     "data": {
      "text/plain": [
       "(111, 605)"
      ]
     },
     "execution_count": 3,
     "metadata": {},
     "output_type": "execute_result"
    }
   ],
   "source": [
    "X_train.shape"
   ]
  },
  {
   "cell_type": "markdown",
   "id": "d051f557",
   "metadata": {},
   "source": [
    "## Logistic Regression <a name=\"Logistic_Regression\"></a>"
   ]
  },
  {
   "cell_type": "code",
   "execution_count": 4,
   "id": "a5348dcb",
   "metadata": {},
   "outputs": [],
   "source": [
    "def logistic_regression(X_train, y_train, X_test, y_test, ratio):  \n",
    "    # Apply scale datasets\n",
    "    # create model scale ==> standard scaler\n",
    "    scaler = StandardScaler()   \n",
    "    # fit dataset to model scale\n",
    "    X_train_scl = scaler.fit_transform(X_train)\n",
    "    X_test_scl = scaler.fit_transform(X_test)\n",
    "\n",
    "    # convert matrix 2d -> 1d (by flatten method)    \n",
    "    y_train = y_train.ravel()\n",
    "    y_test = y_test.ravel()\n",
    "\n",
    "    clf = LogisticRegression(random_state=0, penalty='elasticnet', l1_ratio=ratio,solver=\"saga\" , n_jobs = -1)\n",
    "    clf.fit(X_train, y_train)\n",
    "    \n",
    "    y_pred = clf.predict(X_test)\n",
    "    y_score = clf.predict_proba(X_test)\n",
    "    fpr, tpr, thresholds = metrics.roc_curve(y_test, y_score[:,1], pos_label=2)\n",
    "    auc = metrics.auc(fpr, tpr)\n",
    "    \n",
    "    accuracy = metrics.accuracy_score(y_test, y_pred)\n",
    "    recall = metrics.recall_score(y_test, y_pred)\n",
    "    tn, fp, fn, tp = metrics.confusion_matrix(y_test, y_pred).ravel()\n",
    "    confusion = (tn, fp, fn, tp)\n",
    "    \n",
    "    return clf, fpr, tpr, thresholds, auc, accuracy, recall, confusion"
   ]
  },
  {
   "cell_type": "code",
   "execution_count": 5,
   "id": "7cca65a6",
   "metadata": {
    "scrolled": false
   },
   "outputs": [
    {
     "name": "stderr",
     "output_type": "stream",
     "text": [
      "C:\\Users\\dangd\\anaconda3\\lib\\site-packages\\sklearn\\linear_model\\_sag.py:352: ConvergenceWarning: The max_iter was reached which means the coef_ did not converge\n",
      "  warnings.warn(\n",
      "C:\\Users\\dangd\\anaconda3\\lib\\site-packages\\sklearn\\linear_model\\_sag.py:352: ConvergenceWarning: The max_iter was reached which means the coef_ did not converge\n",
      "  warnings.warn(\n",
      "C:\\Users\\dangd\\anaconda3\\lib\\site-packages\\sklearn\\linear_model\\_sag.py:352: ConvergenceWarning: The max_iter was reached which means the coef_ did not converge\n",
      "  warnings.warn(\n",
      "C:\\Users\\dangd\\anaconda3\\lib\\site-packages\\sklearn\\linear_model\\_sag.py:352: ConvergenceWarning: The max_iter was reached which means the coef_ did not converge\n",
      "  warnings.warn(\n",
      "C:\\Users\\dangd\\anaconda3\\lib\\site-packages\\sklearn\\linear_model\\_sag.py:352: ConvergenceWarning: The max_iter was reached which means the coef_ did not converge\n",
      "  warnings.warn(\n",
      "C:\\Users\\dangd\\anaconda3\\lib\\site-packages\\sklearn\\linear_model\\_sag.py:352: ConvergenceWarning: The max_iter was reached which means the coef_ did not converge\n",
      "  warnings.warn(\n",
      "C:\\Users\\dangd\\anaconda3\\lib\\site-packages\\sklearn\\linear_model\\_sag.py:352: ConvergenceWarning: The max_iter was reached which means the coef_ did not converge\n",
      "  warnings.warn(\n",
      "C:\\Users\\dangd\\anaconda3\\lib\\site-packages\\sklearn\\linear_model\\_sag.py:352: ConvergenceWarning: The max_iter was reached which means the coef_ did not converge\n",
      "  warnings.warn(\n",
      "C:\\Users\\dangd\\anaconda3\\lib\\site-packages\\sklearn\\linear_model\\_sag.py:352: ConvergenceWarning: The max_iter was reached which means the coef_ did not converge\n",
      "  warnings.warn(\n",
      "C:\\Users\\dangd\\anaconda3\\lib\\site-packages\\sklearn\\linear_model\\_sag.py:352: ConvergenceWarning: The max_iter was reached which means the coef_ did not converge\n",
      "  warnings.warn(\n"
     ]
    }
   ],
   "source": [
    "ratio_arr = []\n",
    "n_feature_to_select_arr = []\n",
    "auc_arr = []\n",
    "accuracy_arr = []\n",
    "recall_arr = []\n",
    "for i in [0.1, 0.2, 0.3, 0.4, 0.5, 0.6, 0.7, 0.8, 0.9, 1]:\n",
    "    clf, fpr, tpr, thresholds, auc, accuracy, recall,confusion = logistic_regression(X_train, y_train, X_test, y_test, i)\n",
    "    features_index = np.arange(0, X_train.shape[1], 1, dtype=int)\n",
    "    coef = clf.coef_[0]\n",
    "    # find new feature \n",
    "    count = 0\n",
    "    for k in range(0, X_train.shape[1]-1, 1):\n",
    "        if(coef[k] == 0):\n",
    "            count = count + 1\n",
    "    n_feature_to_select = len(features_index)- count  \n",
    "    \n",
    "    ratio_arr.append(i)\n",
    "    n_feature_to_select_arr.append(n_feature_to_select)\n",
    "    auc_arr.append(auc)\n",
    "    accuracy_arr.append(accuracy)\n",
    "    recall_arr.append(recall)\n",
    "#     print(\"l1_ratio = \", i)\n",
    "#     print(\"auc = \", auc)\n",
    "#     print(\"n_feature_to_select = \", len(features_index)- count)"
   ]
  },
  {
   "cell_type": "code",
   "execution_count": 6,
   "id": "8ac9c30c",
   "metadata": {},
   "outputs": [
    {
     "name": "stdout",
     "output_type": "stream",
     "text": [
      "[0.1, 0.2, 0.3, 0.4, 0.5, 0.6, 0.7, 0.8, 0.9, 1]\n"
     ]
    }
   ],
   "source": [
    "print(ratio_arr)"
   ]
  },
  {
   "cell_type": "code",
   "execution_count": 7,
   "id": "9093e625",
   "metadata": {},
   "outputs": [
    {
     "name": "stdout",
     "output_type": "stream",
     "text": [
      "[476, 428, 307, 274, 222, 204, 144, 133, 123, 97]\n"
     ]
    }
   ],
   "source": [
    "print(n_feature_to_select_arr)"
   ]
  },
  {
   "cell_type": "code",
   "execution_count": 8,
   "id": "63b3d282",
   "metadata": {},
   "outputs": [
    {
     "name": "stdout",
     "output_type": "stream",
     "text": [
      "[0.40625, 0.41145833333333337, 0.421875, 0.42708333333333337, 0.4375, 0.4322916666666667, 0.4427083333333333, 0.4427083333333333, 0.453125, 0.4583333333333333]\n"
     ]
    }
   ],
   "source": [
    "print(auc_arr)"
   ]
  },
  {
   "cell_type": "code",
   "execution_count": 9,
   "id": "dda5ec35",
   "metadata": {},
   "outputs": [
    {
     "name": "stdout",
     "output_type": "stream",
     "text": [
      "[0.4642857142857143, 0.5, 0.5, 0.4642857142857143, 0.4642857142857143, 0.4642857142857143, 0.5, 0.5357142857142857, 0.5357142857142857, 0.5357142857142857]\n"
     ]
    }
   ],
   "source": [
    "print(accuracy_arr)"
   ]
  },
  {
   "cell_type": "code",
   "execution_count": 10,
   "id": "dbaf7b2d",
   "metadata": {},
   "outputs": [
    {
     "name": "stdout",
     "output_type": "stream",
     "text": [
      "[0.3333333333333333, 0.4166666666666667, 0.4166666666666667, 0.4166666666666667, 0.4166666666666667, 0.4166666666666667, 0.5, 0.5, 0.5, 0.5]\n"
     ]
    }
   ],
   "source": [
    "print(recall_arr)"
   ]
  },
  {
   "cell_type": "code",
   "execution_count": 11,
   "id": "b71b7417",
   "metadata": {},
   "outputs": [
    {
     "name": "stderr",
     "output_type": "stream",
     "text": [
      "C:\\Users\\dangd\\anaconda3\\lib\\site-packages\\sklearn\\linear_model\\_sag.py:352: ConvergenceWarning: The max_iter was reached which means the coef_ did not converge\n",
      "  warnings.warn(\n"
     ]
    }
   ],
   "source": [
    "# l1_ratio =  1\n",
    "clf, fpr, tpr, thresholds, auc, accuracy, recall, confusion = logistic_regression(X_train, y_train, X_test, y_test, 1)"
   ]
  },
  {
   "cell_type": "code",
   "execution_count": 12,
   "id": "38bd23eb",
   "metadata": {
    "scrolled": false
   },
   "outputs": [],
   "source": [
    "coef = clf.coef_[0]\n",
    "features_index = np.arange(0, X_train.shape[1], 1, dtype=int)\n",
    "for i in range(0, X_train.shape[1]-1, 1):\n",
    "    if(coef[i] == 0):\n",
    "        index = np.argwhere(features_index==i)\n",
    "        features_index = np.delete(features_index,index)"
   ]
  },
  {
   "cell_type": "code",
   "execution_count": 13,
   "id": "8a4fb73c",
   "metadata": {},
   "outputs": [
    {
     "data": {
      "text/plain": [
       "97"
      ]
     },
     "execution_count": 13,
     "metadata": {},
     "output_type": "execute_result"
    }
   ],
   "source": [
    "len(features_index)"
   ]
  },
  {
   "cell_type": "code",
   "execution_count": 14,
   "id": "6634070f",
   "metadata": {
    "scrolled": false
   },
   "outputs": [
    {
     "data": {
      "text/plain": [
       "array([  7,   8,  15,  26,  30,  31,  34,  38,  41,  46,  54,  68,  69,\n",
       "        72,  78, 103, 106, 107, 108, 110, 112, 114, 115, 122, 124, 125,\n",
       "       129, 132, 153, 154, 155, 157, 158, 162, 172, 214, 221, 224, 226,\n",
       "       230, 232, 233, 234, 236, 237, 239, 240, 241, 243, 247, 250, 266,\n",
       "       268, 269, 272, 279, 306, 314, 317, 324, 326, 327, 335, 336, 342,\n",
       "       358, 380, 401, 406, 407, 421, 434, 435, 439, 440, 445, 458, 480,\n",
       "       483, 485, 486, 492, 506, 515, 516, 517, 546, 547, 550, 551, 553,\n",
       "       564, 567, 574, 575, 582, 604])"
      ]
     },
     "execution_count": 14,
     "metadata": {},
     "output_type": "execute_result"
    }
   ],
   "source": [
    "features_index"
   ]
  },
  {
   "cell_type": "code",
   "execution_count": 15,
   "id": "470968a7",
   "metadata": {},
   "outputs": [
    {
     "data": {
      "text/plain": [
       "(6, 6, 7, 9)"
      ]
     },
     "execution_count": 15,
     "metadata": {},
     "output_type": "execute_result"
    }
   ],
   "source": [
    "confusion"
   ]
  },
  {
   "cell_type": "code",
   "execution_count": 16,
   "id": "74eebbba",
   "metadata": {
    "scrolled": true
   },
   "outputs": [
    {
     "data": {
      "text/plain": [
       "array([0.    , 0.0625, 0.0625, 0.3125, 0.3125, 0.375 , 0.375 , 0.5   ,\n",
       "       0.5   , 0.625 , 0.625 , 0.75  , 0.75  , 1.    ])"
      ]
     },
     "execution_count": 16,
     "metadata": {},
     "output_type": "execute_result"
    }
   ],
   "source": [
    "tpr"
   ]
  },
  {
   "cell_type": "code",
   "execution_count": 17,
   "id": "c003621f",
   "metadata": {},
   "outputs": [
    {
     "name": "stdout",
     "output_type": "stream",
     "text": [
      "[0.0, 0.0, 0.25, 0.25, 0.3333333333333333, 0.3333333333333333, 0.4166666666666667, 0.4166666666666667, 0.5, 0.5, 0.75, 0.75, 1.0, 1.0]\n"
     ]
    }
   ],
   "source": [
    "print(fpr.tolist())"
   ]
  },
  {
   "cell_type": "code",
   "execution_count": 18,
   "id": "f52db1a2",
   "metadata": {},
   "outputs": [
    {
     "data": {
      "text/plain": [
       "array([0.        , 0.        , 0.25      , 0.25      , 0.33333333,\n",
       "       0.33333333, 0.41666667, 0.41666667, 0.5       , 0.5       ,\n",
       "       0.75      , 0.75      , 1.        , 1.        ])"
      ]
     },
     "execution_count": 18,
     "metadata": {},
     "output_type": "execute_result"
    }
   ],
   "source": [
    "fpr"
   ]
  }
 ],
 "metadata": {
  "kernelspec": {
   "display_name": "Python 3 (ipykernel)",
   "language": "python",
   "name": "python3"
  },
  "language_info": {
   "codemirror_mode": {
    "name": "ipython",
    "version": 3
   },
   "file_extension": ".py",
   "mimetype": "text/x-python",
   "name": "python",
   "nbconvert_exporter": "python",
   "pygments_lexer": "ipython3",
   "version": "3.9.12"
  }
 },
 "nbformat": 4,
 "nbformat_minor": 5
}
