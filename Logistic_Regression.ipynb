{
 "cells": [
  {
   "cell_type": "markdown",
   "id": "80c98763",
   "metadata": {},
   "source": [
    "# **Logistic Regression**\n",
    " ## Table of contents\n",
    ">1. [Dataset](#Dataset)\n",
    ">2. [Logistic Regression](#Logistic_Regression)"
   ]
  },
  {
   "cell_type": "markdown",
   "id": "aec27088",
   "metadata": {},
   "source": [
    "## Library"
   ]
  },
  {
   "cell_type": "code",
   "execution_count": 16,
   "id": "c1a5f977",
   "metadata": {
    "ExecuteTime": {
     "end_time": "2023-06-06T15:05:27.922853Z",
     "start_time": "2023-06-06T15:05:27.815523700Z"
    }
   },
   "outputs": [],
   "source": [
    "import pandas as pd\n",
    "import numpy as np\n",
    "from sklearn.preprocessing import StandardScaler\n",
    "from sklearn.ensemble import RandomForestClassifier\n",
    "from sklearn.linear_model import LogisticRegression\n",
    "from sklearn.feature_selection import RFE\n",
    "from sklearn.metrics import accuracy_score\n",
    "from sklearn import metrics"
   ]
  },
  {
   "cell_type": "markdown",
   "id": "b5db7e46",
   "metadata": {},
   "source": [
    "## Dataset <a name=\"Dataset\"></a>"
   ]
  },
  {
   "cell_type": "code",
   "execution_count": 17,
   "id": "27957171",
   "metadata": {
    "ExecuteTime": {
     "end_time": "2023-06-06T15:05:27.974856800Z",
     "start_time": "2023-06-06T15:05:27.839875300Z"
    }
   },
   "outputs": [],
   "source": [
    "X_train = pd.read_csv('./data/X_train.csv').to_numpy()[1:,1:]\n",
    "y_train = pd.read_csv('./data/y_train.csv').to_numpy()[1:,1:].astype('int')\n",
    "X_test = pd.read_csv('./data/X_test.csv').to_numpy()[1:,1:]\n",
    "y_test = pd.read_csv('./data/y_test.csv').to_numpy()[1:,1:].astype('int')"
   ]
  },
  {
   "cell_type": "code",
   "execution_count": 18,
   "id": "5324c703",
   "metadata": {
    "scrolled": true,
    "ExecuteTime": {
     "end_time": "2023-06-06T15:05:27.975856700Z",
     "start_time": "2023-06-06T15:05:27.865868800Z"
    }
   },
   "outputs": [
    {
     "data": {
      "text/plain": "array([[0, 0, 0, ..., 1, 1, 2],\n       [0, 0, 0, ..., 1, 1, 1],\n       [0, 1, 1, ..., 0, 2, 1],\n       ...,\n       [1, 0, 0, ..., 0, 0, 2],\n       [0, 0, 0, ..., 0, 1, 2],\n       [0, 0, 0, ..., 0, 1, 2]], dtype=object)"
     },
     "execution_count": 18,
     "metadata": {},
     "output_type": "execute_result"
    }
   ],
   "source": [
    "X_train"
   ]
  },
  {
   "cell_type": "code",
   "execution_count": 19,
   "outputs": [
    {
     "data": {
      "text/plain": "array([[2],\n       [2],\n       [2],\n       [2],\n       [1],\n       [2],\n       [2],\n       [2],\n       [1],\n       [1],\n       [1],\n       [1],\n       [1],\n       [2],\n       [1],\n       [1],\n       [1],\n       [1],\n       [2],\n       [2],\n       [2],\n       [2],\n       [1],\n       [2],\n       [2],\n       [1],\n       [1],\n       [2],\n       [2],\n       [1],\n       [1],\n       [2],\n       [2],\n       [1],\n       [2],\n       [1],\n       [1],\n       [2],\n       [2],\n       [1],\n       [2],\n       [2],\n       [1],\n       [2],\n       [2],\n       [1],\n       [1],\n       [2],\n       [2],\n       [2],\n       [1],\n       [1],\n       [1],\n       [2],\n       [2],\n       [1],\n       [2],\n       [2],\n       [2],\n       [2],\n       [1],\n       [1],\n       [1],\n       [2],\n       [2],\n       [1],\n       [2],\n       [2],\n       [2],\n       [1],\n       [1],\n       [2],\n       [2],\n       [1],\n       [2],\n       [2],\n       [1],\n       [1],\n       [1],\n       [1],\n       [1],\n       [2],\n       [2],\n       [2],\n       [1],\n       [2],\n       [1],\n       [1],\n       [2],\n       [1],\n       [2],\n       [1],\n       [1],\n       [2],\n       [1],\n       [1],\n       [1],\n       [2],\n       [2],\n       [2],\n       [1],\n       [2],\n       [1],\n       [1],\n       [1],\n       [2],\n       [2],\n       [2],\n       [1],\n       [2]])"
     },
     "execution_count": 19,
     "metadata": {},
     "output_type": "execute_result"
    }
   ],
   "source": [
    "y_train"
   ],
   "metadata": {
    "collapsed": false,
    "ExecuteTime": {
     "end_time": "2023-06-06T15:05:27.976857100Z",
     "start_time": "2023-06-06T15:05:27.883689500Z"
    }
   }
  },
  {
   "cell_type": "markdown",
   "id": "d051f557",
   "metadata": {},
   "source": [
    "## Logistic Regression <a name=\"Logistic_Regression\"></a>"
   ]
  },
  {
   "cell_type": "code",
   "execution_count": 20,
   "id": "a5348dcb",
   "metadata": {
    "ExecuteTime": {
     "end_time": "2023-06-06T15:05:27.980856500Z",
     "start_time": "2023-06-06T15:05:27.899671400Z"
    }
   },
   "outputs": [],
   "source": [
    "def logistic_regression(X_train, y_train, X_test, y_test, ratio):  \n",
    "    # Apply scale datasets\n",
    "    # create model scale ==> standard scaler\n",
    "    scaler = StandardScaler()   \n",
    "    # fit dataset to model scale\n",
    "    X_train_scl = scaler.fit_transform(X_train)\n",
    "    X_test_scl = scaler.fit_transform(X_test)\n",
    "\n",
    "    # convert matrix 2d -> 1d (by flatten method)    \n",
    "    y_train = y_train.ravel()\n",
    "    y_test = y_test.ravel()\n",
    "\n",
    "    clf = LogisticRegression(random_state=0, penalty='elasticnet', l1_ratio=ratio,solver=\"saga\" , n_jobs = -1)\n",
    "    clf.fit(X_train, y_train)\n",
    "    \n",
    "    y_pred = clf.predict(X_test)\n",
    "    y_score = clf.predict_proba(X_test)\n",
    "    fpr, tpr, thresholds = metrics.roc_curve(y_test, y_score[:,1], pos_label=2)\n",
    "    auc = metrics.auc(fpr, tpr)\n",
    "    \n",
    "    accuracy = metrics.accuracy_score(y_test, y_pred)\n",
    "    recall = metrics.recall_score(y_test, y_pred)\n",
    "    tn, fp, fn, tp = metrics.confusion_matrix(y_test, y_pred).ravel()\n",
    "    confusion = (tn, fp, fn, tp)\n",
    "    \n",
    "    return clf, fpr, tpr, thresholds, auc, accuracy, recall, confusion"
   ]
  },
  {
   "cell_type": "code",
   "execution_count": 21,
   "id": "7cca65a6",
   "metadata": {
    "scrolled": false,
    "ExecuteTime": {
     "end_time": "2023-06-06T15:05:28.329219600Z",
     "start_time": "2023-06-06T15:05:27.922853Z"
    }
   },
   "outputs": [
    {
     "name": "stderr",
     "output_type": "stream",
     "text": [
      "C:\\Users\\dangd\\anaconda3\\lib\\site-packages\\sklearn\\linear_model\\_sag.py:352: ConvergenceWarning: The max_iter was reached which means the coef_ did not converge\n",
      "  warnings.warn(\n",
      "C:\\Users\\dangd\\anaconda3\\lib\\site-packages\\sklearn\\linear_model\\_sag.py:352: ConvergenceWarning: The max_iter was reached which means the coef_ did not converge\n",
      "  warnings.warn(\n",
      "C:\\Users\\dangd\\anaconda3\\lib\\site-packages\\sklearn\\linear_model\\_sag.py:352: ConvergenceWarning: The max_iter was reached which means the coef_ did not converge\n",
      "  warnings.warn(\n",
      "C:\\Users\\dangd\\anaconda3\\lib\\site-packages\\sklearn\\linear_model\\_sag.py:352: ConvergenceWarning: The max_iter was reached which means the coef_ did not converge\n",
      "  warnings.warn(\n",
      "C:\\Users\\dangd\\anaconda3\\lib\\site-packages\\sklearn\\linear_model\\_sag.py:352: ConvergenceWarning: The max_iter was reached which means the coef_ did not converge\n",
      "  warnings.warn(\n",
      "C:\\Users\\dangd\\anaconda3\\lib\\site-packages\\sklearn\\linear_model\\_sag.py:352: ConvergenceWarning: The max_iter was reached which means the coef_ did not converge\n",
      "  warnings.warn(\n",
      "C:\\Users\\dangd\\anaconda3\\lib\\site-packages\\sklearn\\linear_model\\_sag.py:352: ConvergenceWarning: The max_iter was reached which means the coef_ did not converge\n",
      "  warnings.warn(\n",
      "C:\\Users\\dangd\\anaconda3\\lib\\site-packages\\sklearn\\linear_model\\_sag.py:352: ConvergenceWarning: The max_iter was reached which means the coef_ did not converge\n",
      "  warnings.warn(\n",
      "C:\\Users\\dangd\\anaconda3\\lib\\site-packages\\sklearn\\linear_model\\_sag.py:352: ConvergenceWarning: The max_iter was reached which means the coef_ did not converge\n",
      "  warnings.warn(\n",
      "C:\\Users\\dangd\\anaconda3\\lib\\site-packages\\sklearn\\linear_model\\_sag.py:352: ConvergenceWarning: The max_iter was reached which means the coef_ did not converge\n",
      "  warnings.warn(\n"
     ]
    }
   ],
   "source": [
    "ratio_arr = []\n",
    "n_feature_to_select_arr = []\n",
    "auc_arr = []\n",
    "accuracy_arr = []\n",
    "recall_arr = []\n",
    "for i in [0.1, 0.2, 0.3, 0.4, 0.5, 0.6, 0.7, 0.8, 0.9, 1]:\n",
    "    clf, fpr, tpr, thresholds, auc, accuracy, recall,confusion = logistic_regression(X_train, y_train, X_test, y_test, i)\n",
    "    features_index = np.arange(0, X_train.shape[1], 1, dtype=int)\n",
    "    coef = clf.coef_[0]\n",
    "    # find new feature \n",
    "    count = 0\n",
    "    for k in range(0, X_train.shape[1]-1, 1):\n",
    "        if(coef[k] == 0):\n",
    "            count = count + 1\n",
    "    n_feature_to_select = len(features_index)- count  \n",
    "    \n",
    "    ratio_arr.append(i)\n",
    "    n_feature_to_select_arr.append(n_feature_to_select)\n",
    "    auc_arr.append(auc)\n",
    "    accuracy_arr.append(accuracy)\n",
    "    recall_arr.append(recall)\n",
    "#     print(\"l1_ratio = \", i)\n",
    "#     print(\"auc = \", auc)\n",
    "#     print(\"n_feature_to_select = \", len(features_index)- count)"
   ]
  },
  {
   "cell_type": "code",
   "execution_count": 22,
   "id": "8ac9c30c",
   "metadata": {
    "ExecuteTime": {
     "end_time": "2023-06-06T15:05:28.364220Z",
     "start_time": "2023-06-06T15:05:28.224643800Z"
    }
   },
   "outputs": [
    {
     "name": "stdout",
     "output_type": "stream",
     "text": [
      "[0.1, 0.2, 0.3, 0.4, 0.5, 0.6, 0.7, 0.8, 0.9, 1]\n"
     ]
    }
   ],
   "source": [
    "print(ratio_arr)"
   ]
  },
  {
   "cell_type": "code",
   "execution_count": 23,
   "id": "9093e625",
   "metadata": {
    "ExecuteTime": {
     "end_time": "2023-06-06T15:05:28.365220600Z",
     "start_time": "2023-06-06T15:05:28.239645900Z"
    }
   },
   "outputs": [
    {
     "name": "stdout",
     "output_type": "stream",
     "text": [
      "[122, 116, 110, 94, 93, 90, 87, 77, 70, 69]\n"
     ]
    }
   ],
   "source": [
    "print(n_feature_to_select_arr)"
   ]
  },
  {
   "cell_type": "code",
   "execution_count": 24,
   "id": "63b3d282",
   "metadata": {
    "ExecuteTime": {
     "end_time": "2023-06-06T15:05:28.365220600Z",
     "start_time": "2023-06-06T15:05:28.254644200Z"
    }
   },
   "outputs": [
    {
     "name": "stdout",
     "output_type": "stream",
     "text": [
      "[0.44318181818181823, 0.44318181818181823, 0.4545454545454546, 0.4659090909090909, 0.47159090909090906, 0.4829545454545454, 0.4829545454545454, 0.4829545454545454, 0.48863636363636365, 0.47159090909090906]\n"
     ]
    }
   ],
   "source": [
    "print(auc_arr)"
   ]
  },
  {
   "cell_type": "code",
   "execution_count": 25,
   "id": "dda5ec35",
   "metadata": {
    "ExecuteTime": {
     "end_time": "2023-06-06T15:05:28.366221900Z",
     "start_time": "2023-06-06T15:05:28.272644100Z"
    }
   },
   "outputs": [
    {
     "name": "stdout",
     "output_type": "stream",
     "text": [
      "[0.4444444444444444, 0.48148148148148145, 0.5185185185185185, 0.5555555555555556, 0.5555555555555556, 0.5555555555555556, 0.5555555555555556, 0.5555555555555556, 0.5555555555555556, 0.5925925925925926]\n"
     ]
    }
   ],
   "source": [
    "print(accuracy_arr)"
   ]
  },
  {
   "cell_type": "code",
   "execution_count": 26,
   "id": "dbaf7b2d",
   "metadata": {
    "ExecuteTime": {
     "end_time": "2023-06-06T15:05:28.390980300Z",
     "start_time": "2023-06-06T15:05:28.286642600Z"
    }
   },
   "outputs": [
    {
     "name": "stdout",
     "output_type": "stream",
     "text": [
      "[0.36363636363636365, 0.45454545454545453, 0.45454545454545453, 0.5454545454545454, 0.5454545454545454, 0.5454545454545454, 0.5454545454545454, 0.5454545454545454, 0.5454545454545454, 0.5454545454545454]\n"
     ]
    }
   ],
   "source": [
    "print(recall_arr)"
   ]
  },
  {
   "cell_type": "code",
   "execution_count": 27,
   "id": "b71b7417",
   "metadata": {
    "ExecuteTime": {
     "end_time": "2023-06-06T15:05:28.433973400Z",
     "start_time": "2023-06-06T15:05:28.301677300Z"
    }
   },
   "outputs": [
    {
     "name": "stderr",
     "output_type": "stream",
     "text": [
      "C:\\Users\\dangd\\anaconda3\\lib\\site-packages\\sklearn\\linear_model\\_sag.py:352: ConvergenceWarning: The max_iter was reached which means the coef_ did not converge\n",
      "  warnings.warn(\n"
     ]
    }
   ],
   "source": [
    "# l1_ratio =  1\n",
    "clf, fpr, tpr, thresholds, auc, accuracy, recall, confusion = logistic_regression(X_train, y_train, X_test, y_test, 1)"
   ]
  },
  {
   "cell_type": "code",
   "execution_count": 28,
   "id": "38bd23eb",
   "metadata": {
    "scrolled": false,
    "ExecuteTime": {
     "end_time": "2023-06-06T15:05:28.433973400Z",
     "start_time": "2023-06-06T15:05:28.361252300Z"
    }
   },
   "outputs": [],
   "source": [
    "coef = clf.coef_[0]\n",
    "features_index = np.arange(0, X_train.shape[1], 1, dtype=int)\n",
    "for i in range(0, X_train.shape[1]-1, 1):\n",
    "    if(coef[i] == 0):\n",
    "        index = np.argwhere(features_index==i)\n",
    "        features_index = np.delete(features_index,index)"
   ]
  },
  {
   "cell_type": "code",
   "execution_count": 29,
   "id": "8a4fb73c",
   "metadata": {
    "ExecuteTime": {
     "end_time": "2023-06-06T15:05:28.469653800Z",
     "start_time": "2023-06-06T15:05:28.365220600Z"
    }
   },
   "outputs": [
    {
     "data": {
      "text/plain": "69"
     },
     "execution_count": 29,
     "metadata": {},
     "output_type": "execute_result"
    }
   ],
   "source": [
    "len(features_index)"
   ]
  },
  {
   "cell_type": "code",
   "execution_count": 30,
   "id": "6634070f",
   "metadata": {
    "scrolled": false,
    "ExecuteTime": {
     "end_time": "2023-06-06T15:05:28.472587800Z",
     "start_time": "2023-06-06T15:05:28.383220400Z"
    }
   },
   "outputs": [
    {
     "data": {
      "text/plain": "array([  8,   9,  10,  11,  13,  14,  15,  16,  27,  30,  31,  32,  33,\n        34,  35,  37,  39,  40,  41,  44,  46,  47,  48,  49,  51,  52,\n        53,  54,  55,  56,  57,  59,  60,  61,  63,  65,  67,  68,  72,\n        73,  74,  75,  77,  78,  80,  82,  83,  86,  89,  90,  91,  93,\n        96,  97,  98, 100, 101, 113, 115, 116, 117, 118, 119, 120, 121,\n       127, 131, 134, 135])"
     },
     "execution_count": 30,
     "metadata": {},
     "output_type": "execute_result"
    }
   ],
   "source": [
    "features_index"
   ]
  },
  {
   "cell_type": "code",
   "execution_count": 31,
   "id": "470968a7",
   "metadata": {
    "ExecuteTime": {
     "end_time": "2023-06-06T15:05:28.473588600Z",
     "start_time": "2023-06-06T15:05:28.395947800Z"
    }
   },
   "outputs": [
    {
     "data": {
      "text/plain": "(6, 5, 6, 10)"
     },
     "execution_count": 31,
     "metadata": {},
     "output_type": "execute_result"
    }
   ],
   "source": [
    "confusion"
   ]
  },
  {
   "cell_type": "code",
   "execution_count": 32,
   "id": "74eebbba",
   "metadata": {
    "scrolled": true,
    "ExecuteTime": {
     "end_time": "2023-06-06T15:05:28.473588600Z",
     "start_time": "2023-06-06T15:05:28.410986700Z"
    }
   },
   "outputs": [
    {
     "data": {
      "text/plain": "array([0.    , 0.    , 0.0625, 0.0625, 0.125 , 0.125 , 0.25  , 0.25  ,\n       0.625 , 0.625 , 0.875 , 0.875 , 1.    ])"
     },
     "execution_count": 32,
     "metadata": {},
     "output_type": "execute_result"
    }
   ],
   "source": [
    "tpr"
   ]
  },
  {
   "cell_type": "code",
   "execution_count": 33,
   "id": "c003621f",
   "metadata": {
    "ExecuteTime": {
     "end_time": "2023-06-06T15:05:28.474588800Z",
     "start_time": "2023-06-06T15:05:28.426971800Z"
    }
   },
   "outputs": [
    {
     "name": "stdout",
     "output_type": "stream",
     "text": [
      "[0.0, 0.09090909090909091, 0.09090909090909091, 0.18181818181818182, 0.18181818181818182, 0.2727272727272727, 0.2727272727272727, 0.45454545454545453, 0.45454545454545453, 0.7272727272727273, 0.7272727272727273, 1.0, 1.0]\n"
     ]
    }
   ],
   "source": [
    "print(fpr.tolist())"
   ]
  },
  {
   "cell_type": "code",
   "execution_count": 34,
   "id": "f52db1a2",
   "metadata": {
    "ExecuteTime": {
     "end_time": "2023-06-06T15:05:28.474588800Z",
     "start_time": "2023-06-06T15:05:28.446973300Z"
    }
   },
   "outputs": [
    {
     "data": {
      "text/plain": "array([0.        , 0.09090909, 0.09090909, 0.18181818, 0.18181818,\n       0.27272727, 0.27272727, 0.45454545, 0.45454545, 0.72727273,\n       0.72727273, 1.        , 1.        ])"
     },
     "execution_count": 34,
     "metadata": {},
     "output_type": "execute_result"
    }
   ],
   "source": [
    "fpr"
   ]
  }
 ],
 "metadata": {
  "kernelspec": {
   "display_name": "Python 3 (ipykernel)",
   "language": "python",
   "name": "python3"
  },
  "language_info": {
   "codemirror_mode": {
    "name": "ipython",
    "version": 3
   },
   "file_extension": ".py",
   "mimetype": "text/x-python",
   "name": "python",
   "nbconvert_exporter": "python",
   "pygments_lexer": "ipython3",
   "version": "3.9.12"
  }
 },
 "nbformat": 4,
 "nbformat_minor": 5
}
