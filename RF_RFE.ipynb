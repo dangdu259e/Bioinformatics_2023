{
 "cells": [
  {
   "cell_type": "markdown",
   "id": "97b0a541",
   "metadata": {},
   "source": [
    "# **Recursive Feature Elimination with Random Forest Selecting features for model performance**\n",
    "\n",
    " ## Table of contents\n",
    ">1. [Dataset](#Dataset)\n",
    ">2. [Random Forest Classifier](#Random_Forest_Classifier)\n",
    ">3. [Recursive feature elemination - Random forest](#Recursive_feature_elemination_Random_forest)\n"
   ]
  },
  {
   "cell_type": "markdown",
   "id": "14398892",
   "metadata": {},
   "source": [
    "## Library"
   ]
  },
  {
   "cell_type": "code",
   "execution_count": 49,
   "id": "a15061f8",
   "metadata": {
    "ExecuteTime": {
     "end_time": "2023-06-06T15:05:29.406858900Z",
     "start_time": "2023-06-06T15:05:29.317350800Z"
    }
   },
   "outputs": [],
   "source": [
    "import pandas as pd\n",
    "import numpy as np\n",
    "from sklearn.preprocessing import StandardScaler\n",
    "from sklearn.ensemble import RandomForestClassifier\n",
    "from sklearn.feature_selection import RFE\n",
    "from sklearn.metrics import accuracy_score\n",
    "from sklearn import metrics"
   ]
  },
  {
   "cell_type": "markdown",
   "id": "66432440",
   "metadata": {},
   "source": [
    "## Dataset <a name=\"Dataset\"></a>"
   ]
  },
  {
   "cell_type": "code",
   "execution_count": 50,
   "id": "8f33a1f4",
   "metadata": {
    "ExecuteTime": {
     "end_time": "2023-06-06T15:05:29.559198500Z",
     "start_time": "2023-06-06T15:05:29.332859700Z"
    }
   },
   "outputs": [],
   "source": [
    "X_train = pd.read_csv('./data/X_train.csv').to_numpy()[1:,1:]\n",
    "y_train = pd.read_csv('./data/y_train.csv').to_numpy()[1:,1:].astype('int')\n",
    "X_test = pd.read_csv('./data/X_test.csv').to_numpy()[1:,1:]\n",
    "y_test = pd.read_csv('./data/y_test.csv').to_numpy()[1:,1:].astype('int')"
   ]
  },
  {
   "cell_type": "code",
   "execution_count": 51,
   "id": "344fac87",
   "metadata": {
    "ExecuteTime": {
     "end_time": "2023-06-06T15:05:29.592196600Z",
     "start_time": "2023-06-06T15:05:29.362861200Z"
    }
   },
   "outputs": [
    {
     "name": "stdout",
     "output_type": "stream",
     "text": [
      "Training data: X_train =  (110, 136) y_train =  (110, 1)\n",
      "Testing data: X_test =  (27, 136) y_test =  (27, 1)\n"
     ]
    }
   ],
   "source": [
    "#check dataset\n",
    "print(\"Training data: X_train = \",X_train.shape, \"y_train = \", y_train.shape)\n",
    "print(\"Testing data: X_test = \",X_test.shape, \"y_test = \", y_test.shape)"
   ]
  },
  {
   "cell_type": "code",
   "execution_count": 52,
   "id": "a02d95c4",
   "metadata": {
    "ExecuteTime": {
     "end_time": "2023-06-06T15:05:29.593198Z",
     "start_time": "2023-06-06T15:05:29.381859500Z"
    }
   },
   "outputs": [
    {
     "data": {
      "text/plain": "array([[1],\n       [2],\n       [2],\n       [2],\n       [2],\n       [2],\n       [1],\n       [1],\n       [2],\n       [2],\n       [1],\n       [2],\n       [2],\n       [2],\n       [1],\n       [2],\n       [1],\n       [1],\n       [2],\n       [2],\n       [2],\n       [2],\n       [1],\n       [2],\n       [1],\n       [1],\n       [1]])"
     },
     "execution_count": 52,
     "metadata": {},
     "output_type": "execute_result"
    }
   ],
   "source": [
    "y_test"
   ]
  },
  {
   "cell_type": "markdown",
   "id": "a42c6860",
   "metadata": {},
   "source": [
    "## Random Forest Classifier <a name=\"Random_Forest_Classifier\"></a>"
   ]
  },
  {
   "cell_type": "code",
   "execution_count": 53,
   "id": "3e185c32",
   "metadata": {
    "ExecuteTime": {
     "end_time": "2023-06-06T15:05:29.593198Z",
     "start_time": "2023-06-06T15:05:29.406858900Z"
    }
   },
   "outputs": [],
   "source": [
    "def random_forest_classifier(X_train, y_train, X_test, y_test):\n",
    "    # Apply scale datasets\n",
    "    # create model scale ==> standard scaler\n",
    "    scaler = StandardScaler()   \n",
    "    # fit dataset to model scale\n",
    "    X_train_scl = scaler.fit_transform(X_train)\n",
    "    X_test_scl = scaler.fit_transform(X_test)\n",
    "    \n",
    "    # convert matrix 2d -> 1d (by flatten method)    \n",
    "    y_train = y_train.ravel()\n",
    "    # y_train = y_train.astype('int')\n",
    "    y_test = y_test.ravel()\n",
    "    # y_test = y_test.astype('int')\n",
    "\n",
    "    \n",
    "    # Random forest classifier model\n",
    "    rf = RandomForestClassifier(random_state=0, n_jobs=-1)\n",
    "    rf.fit(X_train_scl, y_train)\n",
    "        \n",
    "    # check classes\n",
    "    print(\"classes model: \")\n",
    "    print(rf.classes_)\n",
    "    \n",
    "    # Predict testing dataset\n",
    "    y_pred = rf.predict(X_test)\n",
    "    # Predict probability (1, 2) \n",
    "    y_score = rf.predict_proba(X_test)\n",
    "    print(y_score)\n",
    "    \n",
    "    # ROC curve: receiver operating characteristic curve\n",
    "    # AUC: Area Under the ROC Curve \n",
    "    fpr, tpr, thresholds = metrics.roc_curve(y_test, y_score[:,1], pos_label=2)\n",
    "    auc = metrics.auc(fpr, tpr)\n",
    "    \n",
    "    accuracy = metrics.accuracy_score(y_test, y_pred)\n",
    "    recall = metrics.recall_score(y_test, y_pred)\n",
    "#     tn, fp, fn, tp = metrics.confusion_matrix(y_test, y_pred).ravel()\n",
    "#     confusion = (tn, fp, fn, tp)\n",
    "    confusion = metrics.confusion_matrix(y_test, y_pred)\n",
    "    return rf, fpr, tpr, thresholds, auc, accuracy, recall, confusion "
   ]
  },
  {
   "cell_type": "code",
   "execution_count": 54,
   "id": "ad45f1f1",
   "metadata": {
    "ExecuteTime": {
     "end_time": "2023-06-06T15:05:29.595198500Z",
     "start_time": "2023-06-06T15:05:29.412866600Z"
    }
   },
   "outputs": [
    {
     "name": "stdout",
     "output_type": "stream",
     "text": [
      "classes model: \n",
      "[1 2]\n",
      "[[0.34 0.66]\n",
      " [0.48 0.52]\n",
      " [0.39 0.61]\n",
      " [0.43 0.57]\n",
      " [0.39 0.61]\n",
      " [0.36 0.64]\n",
      " [0.5  0.5 ]\n",
      " [0.39 0.61]\n",
      " [0.47 0.53]\n",
      " [0.42 0.58]\n",
      " [0.48 0.52]\n",
      " [0.4  0.6 ]\n",
      " [0.43 0.57]\n",
      " [0.45 0.55]\n",
      " [0.38 0.62]\n",
      " [0.5  0.5 ]\n",
      " [0.41 0.59]\n",
      " [0.46 0.54]\n",
      " [0.35 0.65]\n",
      " [0.49 0.51]\n",
      " [0.51 0.49]\n",
      " [0.4  0.6 ]\n",
      " [0.37 0.63]\n",
      " [0.45 0.55]\n",
      " [0.29 0.71]\n",
      " [0.38 0.62]\n",
      " [0.47 0.53]]\n",
      "Wall time: 151 ms\n"
     ]
    }
   ],
   "source": [
    "%%time\n",
    "# check efficiency random forest classifier for all dataset (train, test)\n",
    "rf, fpr, tpr, thresholds, auc, accuracy, recall, confusion = random_forest_classifier(X_train, y_train, X_test, y_test)"
   ]
  },
  {
   "cell_type": "code",
   "execution_count": 55,
   "id": "6bd94f8e",
   "metadata": {
    "ExecuteTime": {
     "end_time": "2023-06-06T15:05:29.595198500Z",
     "start_time": "2023-06-06T15:05:29.569197500Z"
    }
   },
   "outputs": [
    {
     "name": "stdout",
     "output_type": "stream",
     "text": [
      "auc_score = 0.3664772727272727\n"
     ]
    }
   ],
   "source": [
    "print(\"auc_score = \"+ str(auc))"
   ]
  },
  {
   "cell_type": "code",
   "execution_count": 56,
   "id": "ba6c9e35",
   "metadata": {
    "ExecuteTime": {
     "end_time": "2023-06-06T15:05:29.681369100Z",
     "start_time": "2023-06-06T15:05:29.583198Z"
    }
   },
   "outputs": [
    {
     "data": {
      "text/plain": "[(0, 0.003594062124327922),\n (1, 0.0025301895075575953),\n (2, 0.0032188861528172972),\n (3, 0.0025015692621547353),\n (4, 0.0021494995830908053),\n (5, 0.0019324221751055276),\n (6, 0.001771676621297949),\n (7, 0.0027232607863657845),\n (8, 0.004613738133469662),\n (9, 0.005208497505863061),\n (10, 0.008735133089557175),\n (11, 0.003400420504177867),\n (12, 0.008474252977167905),\n (13, 0.01254675160403836),\n (14, 0.006939821977185212),\n (15, 0.004160164353658544),\n (16, 0.009723152301757276),\n (17, 0.007246311724914886),\n (18, 0.0023223690073796697),\n (19, 0.003113475078513653),\n (20, 0.0025897865982028485),\n (21, 0.011509766456234131),\n (22, 0.0010543106308832434),\n (23, 0.0019521020096019237),\n (24, 0.0027668858896242898),\n (25, 0.0019193889165329153),\n (26, 0.007695467952349568),\n (27, 0.008971080941027132),\n (28, 0.007728360414274306),\n (29, 0.00486785883367764),\n (30, 0.006334557670976317),\n (31, 0.012750215501682094),\n (32, 0.007306741357430494),\n (33, 0.007076528388803166),\n (34, 0.00574144435092563),\n (35, 0.008447874569964523),\n (36, 0.005384160176214823),\n (37, 0.008452663568593798),\n (38, 0.0058756067671022014),\n (39, 0.0035260329221936657),\n (40, 0.013962907123914054),\n (41, 0.021763054183507786),\n (42, 0.007974998536099433),\n (43, 0.0071560451256755695),\n (44, 0.008471137705914882),\n (45, 0.009943417672720823),\n (46, 0.011936125460039741),\n (47, 0.0032289070532357245),\n (48, 0.006374091128830499),\n (49, 0.012320761833438332),\n (50, 0.005454682517452364),\n (51, 0.00799357663399213),\n (52, 0.011707683866819234),\n (53, 0.006627850355493733),\n (54, 0.0033442722367623672),\n (55, 0.010325792227661048),\n (56, 0.0064975833386997014),\n (57, 0.010678108926619254),\n (58, 0.011554753326782814),\n (59, 0.014215227215595377),\n (60, 0.003097112481002372),\n (61, 0.017423278511112715),\n (62, 0.010358260320006873),\n (63, 0.010359084936846808),\n (64, 0.009617656962652094),\n (65, 0.008982542473273668),\n (66, 0.008626067240979678),\n (67, 0.0125987964115798),\n (68, 0.017468030109249633),\n (69, 0.010746751393590446),\n (70, 0.007081279942830801),\n (71, 0.007884551496898132),\n (72, 0.013611415467297841),\n (73, 0.006949479545347289),\n (74, 0.006473015722811632),\n (75, 0.01035491796665291),\n (76, 0.006376138197798539),\n (77, 0.003922196168457744),\n (78, 0.006919794708606946),\n (79, 0.00844938105093122),\n (80, 0.007704725421399082),\n (81, 0.0021240778128359507),\n (82, 0.007078015669524698),\n (83, 0.012921260086520787),\n (84, 0.014453090116370405),\n (85, 0.02107400897863142),\n (86, 0.003932694737667922),\n (87, 0.018078509881537648),\n (88, 0.010894657854622148),\n (89, 0.016570571009491435),\n (90, 0.003928680248815386),\n (91, 0.005888260371672842),\n (92, 0.007941069321573284),\n (93, 0.007409110301648088),\n (94, 0.0020755476555134145),\n (95, 0.008423632961555549),\n (96, 0.005536230109773801),\n (97, 0.004776457687303276),\n (98, 0.0032272176515365215),\n (99, 0.008546790325165502),\n (100, 0.007147896363650657),\n (101, 0.008245000573484521),\n (102, 0.0028653484294068397),\n (103, 0.003851674339731794),\n (104, 0.004314261654802701),\n (105, 0.008688053722115065),\n (106, 0.004165233576522553),\n (107, 0.002950263922855868),\n (108, 0.001679710122764744),\n (109, 0.0017150253884580277),\n (110, 0.0017228901720579165),\n (111, 0.0036209816866851386),\n (112, 0.0034337794917175934),\n (113, 0.009414126406367625),\n (114, 0.00850687985700962),\n (115, 0.005424358500994244),\n (116, 0.0012440038601071936),\n (117, 0.00786981151024437),\n (118, 0.009652323470477963),\n (119, 0.009087316952618503),\n (120, 0.009906205331422613),\n (121, 0.005878348850257315),\n (122, 0.004573341989697062),\n (123, 0.006866468572368666),\n (124, 0.002360794174782762),\n (125, 0.011993883792448779),\n (126, 0.004034413618138059),\n (127, 0.010030799300285435),\n (128, 0.006585100257403342),\n (129, 0.004755648875257591),\n (130, 0.005810774888509984),\n (131, 0.012874990784237185),\n (132, 0.016240380932363588),\n (133, 0.008180895197538068),\n (134, 0.009848816969530206),\n (135, 0.004188372296649674)]"
     },
     "execution_count": 56,
     "metadata": {},
     "output_type": "execute_result"
    }
   ],
   "source": [
    "feature_importance = rf.feature_importances_\n",
    "features_index = np.arange(0, X_train.shape[1], 1, dtype=int)\n",
    "f_i = list(zip(features_index, feature_importance))\n",
    "f_i"
   ]
  },
  {
   "cell_type": "code",
   "execution_count": 57,
   "id": "2f7be1e2",
   "metadata": {
    "scrolled": true,
    "ExecuteTime": {
     "end_time": "2023-06-06T15:05:29.682368300Z",
     "start_time": "2023-06-06T15:05:29.614202300Z"
    }
   },
   "outputs": [
    {
     "data": {
      "text/plain": "[(41, 0.021763054183507786),\n (85, 0.02107400897863142),\n (87, 0.018078509881537648),\n (68, 0.017468030109249633),\n (61, 0.017423278511112715),\n (89, 0.016570571009491435),\n (132, 0.016240380932363588),\n (84, 0.014453090116370405),\n (59, 0.014215227215595377),\n (40, 0.013962907123914054),\n (72, 0.013611415467297841),\n (83, 0.012921260086520787),\n (131, 0.012874990784237185),\n (31, 0.012750215501682094),\n (67, 0.0125987964115798),\n (13, 0.01254675160403836),\n (49, 0.012320761833438332),\n (125, 0.011993883792448779),\n (46, 0.011936125460039741),\n (52, 0.011707683866819234),\n (58, 0.011554753326782814),\n (21, 0.011509766456234131),\n (88, 0.010894657854622148),\n (69, 0.010746751393590446),\n (57, 0.010678108926619254),\n (63, 0.010359084936846808),\n (62, 0.010358260320006873),\n (75, 0.01035491796665291),\n (55, 0.010325792227661048),\n (127, 0.010030799300285435),\n (45, 0.009943417672720823),\n (120, 0.009906205331422613),\n (134, 0.009848816969530206),\n (16, 0.009723152301757276),\n (118, 0.009652323470477963),\n (64, 0.009617656962652094),\n (113, 0.009414126406367625),\n (119, 0.009087316952618503),\n (65, 0.008982542473273668),\n (27, 0.008971080941027132),\n (10, 0.008735133089557175),\n (105, 0.008688053722115065),\n (66, 0.008626067240979678),\n (99, 0.008546790325165502),\n (114, 0.00850687985700962),\n (12, 0.008474252977167905),\n (44, 0.008471137705914882),\n (37, 0.008452663568593798),\n (79, 0.00844938105093122),\n (35, 0.008447874569964523),\n (95, 0.008423632961555549),\n (101, 0.008245000573484521),\n (133, 0.008180895197538068),\n (51, 0.00799357663399213),\n (42, 0.007974998536099433),\n (92, 0.007941069321573284),\n (71, 0.007884551496898132),\n (117, 0.00786981151024437),\n (28, 0.007728360414274306),\n (80, 0.007704725421399082),\n (26, 0.007695467952349568),\n (93, 0.007409110301648088),\n (32, 0.007306741357430494),\n (17, 0.007246311724914886),\n (43, 0.0071560451256755695),\n (100, 0.007147896363650657),\n (70, 0.007081279942830801),\n (82, 0.007078015669524698),\n (33, 0.007076528388803166),\n (73, 0.006949479545347289),\n (14, 0.006939821977185212),\n (78, 0.006919794708606946),\n (123, 0.006866468572368666),\n (53, 0.006627850355493733),\n (128, 0.006585100257403342),\n (56, 0.0064975833386997014),\n (74, 0.006473015722811632),\n (76, 0.006376138197798539),\n (48, 0.006374091128830499),\n (30, 0.006334557670976317),\n (91, 0.005888260371672842),\n (121, 0.005878348850257315),\n (38, 0.0058756067671022014),\n (130, 0.005810774888509984),\n (34, 0.00574144435092563),\n (96, 0.005536230109773801),\n (50, 0.005454682517452364),\n (115, 0.005424358500994244),\n (36, 0.005384160176214823),\n (9, 0.005208497505863061),\n (29, 0.00486785883367764),\n (97, 0.004776457687303276),\n (129, 0.004755648875257591),\n (8, 0.004613738133469662),\n (122, 0.004573341989697062),\n (104, 0.004314261654802701),\n (135, 0.004188372296649674),\n (106, 0.004165233576522553),\n (15, 0.004160164353658544),\n (126, 0.004034413618138059),\n (86, 0.003932694737667922),\n (90, 0.003928680248815386),\n (77, 0.003922196168457744),\n (103, 0.003851674339731794),\n (111, 0.0036209816866851386),\n (0, 0.003594062124327922),\n (39, 0.0035260329221936657),\n (112, 0.0034337794917175934),\n (11, 0.003400420504177867),\n (54, 0.0033442722367623672),\n (47, 0.0032289070532357245),\n (98, 0.0032272176515365215),\n (2, 0.0032188861528172972),\n (19, 0.003113475078513653),\n (60, 0.003097112481002372),\n (107, 0.002950263922855868),\n (102, 0.0028653484294068397),\n (24, 0.0027668858896242898),\n (7, 0.0027232607863657845),\n (20, 0.0025897865982028485),\n (1, 0.0025301895075575953),\n (3, 0.0025015692621547353),\n (124, 0.002360794174782762),\n (18, 0.0023223690073796697),\n (4, 0.0021494995830908053),\n (81, 0.0021240778128359507),\n (94, 0.0020755476555134145),\n (23, 0.0019521020096019237),\n (5, 0.0019324221751055276),\n (25, 0.0019193889165329153),\n (6, 0.001771676621297949),\n (110, 0.0017228901720579165),\n (109, 0.0017150253884580277),\n (108, 0.001679710122764744),\n (116, 0.0012440038601071936),\n (22, 0.0010543106308832434)]"
     },
     "execution_count": 57,
     "metadata": {},
     "output_type": "execute_result"
    }
   ],
   "source": [
    "f_i_sorted = sorted(f_i,key=lambda col: col[1], reverse=True)\n",
    "f_i_sorted"
   ]
  },
  {
   "cell_type": "markdown",
   "id": "34399d39",
   "metadata": {},
   "source": [
    "## Recursive feature elemination - Random forest  <a name=\"Recursive_feature_elemination_Random_forest\"></a>"
   ]
  },
  {
   "cell_type": "code",
   "execution_count": 58,
   "id": "1d721820",
   "metadata": {
    "ExecuteTime": {
     "end_time": "2023-06-06T15:05:29.682368300Z",
     "start_time": "2023-06-06T15:05:29.633370400Z"
    }
   },
   "outputs": [],
   "source": [
    "def RFE_RF(X_train, y_train, X_test, y_test, n_feature):\n",
    "    \n",
    "    # Apply scale datasets\n",
    "    # create model scale ==> standard scaler\n",
    "    scaler = StandardScaler()\n",
    "    # fit dataset to model scale\n",
    "    X_train_scl = scaler.fit_transform(X_train)\n",
    "    y_train = y_train.ravel()\n",
    "    y_test = y_test.ravel()\n",
    "    \n",
    "    # Random forest classifier estimator\n",
    "    rf = RandomForestClassifier(random_state=0, n_jobs=-1)\n",
    "    \n",
    "    # RFE model\n",
    "    rfe = RFE(estimator=rf, n_features_to_select=n_feature, step=1, verbose=1)\n",
    "    rfe.fit_transform(X_train_scl, y_train)\n",
    "    \n",
    "    # Reduce X to the selected features.\n",
    "    X_train_reduce = rfe.transform(X_train)\n",
    "    X_test_reduce = rfe.transform(X_test)\n",
    "    \n",
    "    rf, fpr, tpr, thresholds, auc, accuracy, recall, confusion = random_forest_classifier(X_train_reduce, y_train, X_test_reduce, y_test)\n",
    "    return rfe, rf, fpr, tpr, thresholds, auc, accuracy, recall, confusion"
   ]
  },
  {
   "cell_type": "code",
   "execution_count": 59,
   "id": "a624441f",
   "metadata": {
    "scrolled": true,
    "ExecuteTime": {
     "end_time": "2023-06-06T15:05:29.941059500Z",
     "start_time": "2023-06-06T15:05:29.644371100Z"
    }
   },
   "outputs": [
    {
     "name": "stdout",
     "output_type": "stream",
     "text": [
      "classes model: \n",
      "[1 2]\n",
      "[[0.34 0.66]\n",
      " [0.48 0.52]\n",
      " [0.39 0.61]\n",
      " [0.43 0.57]\n",
      " [0.39 0.61]\n",
      " [0.36 0.64]\n",
      " [0.5  0.5 ]\n",
      " [0.39 0.61]\n",
      " [0.47 0.53]\n",
      " [0.42 0.58]\n",
      " [0.48 0.52]\n",
      " [0.4  0.6 ]\n",
      " [0.43 0.57]\n",
      " [0.45 0.55]\n",
      " [0.38 0.62]\n",
      " [0.5  0.5 ]\n",
      " [0.41 0.59]\n",
      " [0.46 0.54]\n",
      " [0.35 0.65]\n",
      " [0.49 0.51]\n",
      " [0.51 0.49]\n",
      " [0.4  0.6 ]\n",
      " [0.37 0.63]\n",
      " [0.45 0.55]\n",
      " [0.29 0.71]\n",
      " [0.38 0.62]\n",
      " [0.47 0.53]]\n"
     ]
    }
   ],
   "source": [
    "rfe, rf, fpr, tpr, thresholds, auc, accuracy, recall, confusion = RFE_RF(X_train, y_train, X_test, y_test, 390)"
   ]
  },
  {
   "cell_type": "code",
   "execution_count": 60,
   "id": "d5b77ac0",
   "metadata": {
    "ExecuteTime": {
     "end_time": "2023-06-06T15:05:29.957091300Z",
     "start_time": "2023-06-06T15:05:29.913491400Z"
    }
   },
   "outputs": [
    {
     "name": "stdout",
     "output_type": "stream",
     "text": [
      "auc_score = 0.3664772727272727\n"
     ]
    }
   ],
   "source": [
    "print(\"auc_score = \"+ str(auc))"
   ]
  },
  {
   "cell_type": "code",
   "execution_count": 61,
   "id": "2a25dc09",
   "metadata": {
    "ExecuteTime": {
     "end_time": "2023-06-06T15:05:29.973793500Z",
     "start_time": "2023-06-06T15:05:29.928063200Z"
    }
   },
   "outputs": [
    {
     "data": {
      "text/plain": "array([[ 1, 10],\n       [ 2, 14]], dtype=int64)"
     },
     "execution_count": 61,
     "metadata": {},
     "output_type": "execute_result"
    }
   ],
   "source": [
    "confusion"
   ]
  },
  {
   "cell_type": "code",
   "execution_count": 62,
   "id": "bf7e94e3",
   "metadata": {
    "ExecuteTime": {
     "end_time": "2023-06-06T15:05:29.974793200Z",
     "start_time": "2023-06-06T15:05:29.957091300Z"
    }
   },
   "outputs": [
    {
     "data": {
      "text/plain": "array([ 1, 10,  2, 14], dtype=int64)"
     },
     "execution_count": 62,
     "metadata": {},
     "output_type": "execute_result"
    }
   ],
   "source": [
    "confusion.ravel()"
   ]
  },
  {
   "cell_type": "code",
   "execution_count": 63,
   "id": "8d2ae291",
   "metadata": {
    "ExecuteTime": {
     "end_time": "2023-06-06T15:05:30.007612500Z",
     "start_time": "2023-06-06T15:05:29.962063800Z"
    }
   },
   "outputs": [
    {
     "data": {
      "text/plain": "array([[ 1, 10],\n       [ 2, 14]], dtype=int64)"
     },
     "execution_count": 63,
     "metadata": {},
     "output_type": "execute_result"
    }
   ],
   "source": [
    "confusion"
   ]
  },
  {
   "cell_type": "code",
   "execution_count": 64,
   "id": "b17410b4",
   "metadata": {
    "ExecuteTime": {
     "end_time": "2023-06-06T15:05:30.008614Z",
     "start_time": "2023-06-06T15:05:29.976794400Z"
    }
   },
   "outputs": [
    {
     "data": {
      "text/plain": "array([  0,   1,   2,   3,   4,   5,   6,   7,   8,   9,  10,  11,  12,\n        13,  14,  15,  16,  17,  18,  19,  20,  21,  22,  23,  24,  25,\n        26,  27,  28,  29,  30,  31,  32,  33,  34,  35,  36,  37,  38,\n        39,  40,  41,  42,  43,  44,  45,  46,  47,  48,  49,  50,  51,\n        52,  53,  54,  55,  56,  57,  58,  59,  60,  61,  62,  63,  64,\n        65,  66,  67,  68,  69,  70,  71,  72,  73,  74,  75,  76,  77,\n        78,  79,  80,  81,  82,  83,  84,  85,  86,  87,  88,  89,  90,\n        91,  92,  93,  94,  95,  96,  97,  98,  99, 100, 101, 102, 103,\n       104, 105, 106, 107, 108, 109, 110, 111, 112, 113, 114, 115, 116,\n       117, 118, 119, 120, 121, 122, 123, 124, 125, 126, 127, 128, 129,\n       130, 131, 132, 133, 134, 135])"
     },
     "execution_count": 64,
     "metadata": {},
     "output_type": "execute_result"
    }
   ],
   "source": [
    "features = np.arange(0, X_train.shape[1], 1, dtype=int)\n",
    "selected_features = np.array(features)[rfe.get_support()]\n",
    "selected_features"
   ]
  },
  {
   "cell_type": "markdown",
   "id": "de9aa7cc",
   "metadata": {},
   "source": [
    "Find number feature to select is the optimal value"
   ]
  },
  {
   "cell_type": "code",
   "execution_count": 65,
   "id": "fa1dde3e",
   "metadata": {
    "ExecuteTime": {
     "end_time": "2023-06-06T15:05:30.009613300Z",
     "start_time": "2023-06-06T15:05:29.994612200Z"
    }
   },
   "outputs": [],
   "source": [
    "def optimal_number_feature_to_select(min_feature, max_feature, sequence=50, savelink = \"./output/n_feature_to_select.txt\"):\n",
    "    auc_max = 0\n",
    "    number_feature_to_select = min_feature\n",
    "    text_file = open(savelink, \"a\")\n",
    "\n",
    "    for i in range(min_feature, max_feature, sequence):\n",
    "        text = \"n_features_to_select = \" + str(i) + \" \\n\"\n",
    "        n = text_file.writelines(text)\n",
    "\n",
    "        rfe_rf, rf_reduce, auc_score_rf_reduce = RFE_RF(X_train, y_train, X_test, y_test, i)\n",
    "        text = \"auc = \" + str(auc_score_rf_reduce) + \" \\n\"\n",
    "        n = text_file.writelines(text)\n",
    "        \n",
    "        if(auc_max < auc_score_rf_reduce):\n",
    "            auc_max = auc_score_rf_reduce\n",
    "            number_feature_to_select = i\n",
    "    \n",
    "    text_file.close()\n",
    "    return number_feature_to_select, auc_max"
   ]
  },
  {
   "cell_type": "code",
   "execution_count": 66,
   "id": "6b195d69",
   "metadata": {
    "scrolled": true,
    "ExecuteTime": {
     "end_time": "2023-06-06T15:05:30.034768300Z",
     "start_time": "2023-06-06T15:05:30.006612500Z"
    }
   },
   "outputs": [],
   "source": [
    "# number_feature_to_select, auc_max = optimal_number_feature_to_select(100, 600)"
   ]
  },
  {
   "cell_type": "code",
   "execution_count": 67,
   "id": "0290050d",
   "metadata": {
    "ExecuteTime": {
     "end_time": "2023-06-06T15:05:30.046738600Z",
     "start_time": "2023-06-06T15:05:30.025664200Z"
    }
   },
   "outputs": [],
   "source": [
    "number_feature_to_select = 390"
   ]
  },
  {
   "cell_type": "code",
   "execution_count": 68,
   "id": "738d2867",
   "metadata": {
    "scrolled": true,
    "ExecuteTime": {
     "end_time": "2023-06-06T15:05:30.318891800Z",
     "start_time": "2023-06-06T15:05:30.039739600Z"
    }
   },
   "outputs": [
    {
     "name": "stdout",
     "output_type": "stream",
     "text": [
      "classes model: \n",
      "[1 2]\n",
      "[[0.34 0.66]\n",
      " [0.48 0.52]\n",
      " [0.39 0.61]\n",
      " [0.43 0.57]\n",
      " [0.39 0.61]\n",
      " [0.36 0.64]\n",
      " [0.5  0.5 ]\n",
      " [0.39 0.61]\n",
      " [0.47 0.53]\n",
      " [0.42 0.58]\n",
      " [0.48 0.52]\n",
      " [0.4  0.6 ]\n",
      " [0.43 0.57]\n",
      " [0.45 0.55]\n",
      " [0.38 0.62]\n",
      " [0.5  0.5 ]\n",
      " [0.41 0.59]\n",
      " [0.46 0.54]\n",
      " [0.35 0.65]\n",
      " [0.49 0.51]\n",
      " [0.51 0.49]\n",
      " [0.4  0.6 ]\n",
      " [0.37 0.63]\n",
      " [0.45 0.55]\n",
      " [0.29 0.71]\n",
      " [0.38 0.62]\n",
      " [0.47 0.53]]\n"
     ]
    }
   ],
   "source": [
    "rfe, rf, fpr, tpr, thresholds, auc, accuracy, recall, confusion = RFE_RF(X_train, y_train, X_test, y_test, number_feature_to_select)"
   ]
  },
  {
   "cell_type": "code",
   "execution_count": 69,
   "id": "c9c28723",
   "metadata": {
    "ExecuteTime": {
     "end_time": "2023-06-06T15:05:30.342944300Z",
     "start_time": "2023-06-06T15:05:30.319892100Z"
    }
   },
   "outputs": [
    {
     "data": {
      "text/plain": "array([1.71, 0.71, 0.66, 0.64, 0.63, 0.62, 0.61, 0.6 , 0.59, 0.58, 0.55,\n       0.54, 0.52, 0.51, 0.5 , 0.49])"
     },
     "execution_count": 69,
     "metadata": {},
     "output_type": "execute_result"
    }
   ],
   "source": [
    "thresholds"
   ]
  },
  {
   "cell_type": "code",
   "execution_count": 70,
   "id": "153f4632",
   "metadata": {
    "ExecuteTime": {
     "end_time": "2023-06-06T15:05:30.352938600Z",
     "start_time": "2023-06-06T15:05:30.333915600Z"
    }
   },
   "outputs": [
    {
     "data": {
      "text/plain": "16"
     },
     "execution_count": 70,
     "metadata": {},
     "output_type": "execute_result"
    }
   ],
   "source": [
    "len(thresholds)"
   ]
  },
  {
   "cell_type": "code",
   "execution_count": 71,
   "id": "bd27c92e",
   "metadata": {
    "ExecuteTime": {
     "end_time": "2023-06-06T15:05:30.363277900Z",
     "start_time": "2023-06-06T15:05:30.349913400Z"
    }
   },
   "outputs": [
    {
     "data": {
      "text/plain": "array([0.    , 0.    , 0.    , 0.125 , 0.125 , 0.125 , 0.25  , 0.375 ,\n       0.375 , 0.4375, 0.6875, 0.6875, 0.8125, 0.875 , 0.9375, 1.    ])"
     },
     "execution_count": 71,
     "metadata": {},
     "output_type": "execute_result"
    }
   ],
   "source": [
    "tpr"
   ]
  },
  {
   "cell_type": "code",
   "execution_count": 72,
   "id": "b1b39a72",
   "metadata": {
    "ExecuteTime": {
     "end_time": "2023-06-06T15:05:30.379277Z",
     "start_time": "2023-06-06T15:05:30.365277200Z"
    }
   },
   "outputs": [
    {
     "data": {
      "text/plain": "16"
     },
     "execution_count": 72,
     "metadata": {},
     "output_type": "execute_result"
    }
   ],
   "source": [
    "len(tpr)"
   ]
  },
  {
   "cell_type": "code",
   "execution_count": 73,
   "id": "6223a176",
   "metadata": {
    "ExecuteTime": {
     "end_time": "2023-06-06T15:05:30.393444Z",
     "start_time": "2023-06-06T15:05:30.380276700Z"
    }
   },
   "outputs": [
    {
     "data": {
      "text/plain": "array([0.        , 0.09090909, 0.18181818, 0.18181818, 0.27272727,\n       0.45454545, 0.54545455, 0.54545455, 0.63636364, 0.63636364,\n       0.63636364, 0.72727273, 0.90909091, 0.90909091, 1.        ,\n       1.        ])"
     },
     "execution_count": 73,
     "metadata": {},
     "output_type": "execute_result"
    }
   ],
   "source": [
    "fpr"
   ]
  },
  {
   "cell_type": "code",
   "execution_count": 74,
   "id": "247f45c7",
   "metadata": {
    "ExecuteTime": {
     "end_time": "2023-06-06T15:05:30.416447900Z",
     "start_time": "2023-06-06T15:05:30.396448900Z"
    }
   },
   "outputs": [
    {
     "data": {
      "text/plain": "16"
     },
     "execution_count": 74,
     "metadata": {},
     "output_type": "execute_result"
    }
   ],
   "source": [
    "len(fpr)"
   ]
  },
  {
   "cell_type": "code",
   "execution_count": 75,
   "id": "3c81cc2a",
   "metadata": {
    "scrolled": true,
    "ExecuteTime": {
     "end_time": "2023-06-06T15:05:30.424952900Z",
     "start_time": "2023-06-06T15:05:30.412450200Z"
    }
   },
   "outputs": [
    {
     "data": {
      "text/plain": "array([[ 1, 10],\n       [ 2, 14]], dtype=int64)"
     },
     "execution_count": 75,
     "metadata": {},
     "output_type": "execute_result"
    }
   ],
   "source": [
    "confusion"
   ]
  },
  {
   "cell_type": "code",
   "execution_count": 76,
   "id": "5320ab55",
   "metadata": {
    "scrolled": true,
    "ExecuteTime": {
     "end_time": "2023-06-06T15:05:30.443958700Z",
     "start_time": "2023-06-06T15:05:30.429958800Z"
    }
   },
   "outputs": [],
   "source": [
    "# n_feature = []\n",
    "# auc_arr = []\n",
    "# accuracy_arr = []\n",
    "# recall_arr = []\n",
    "# for i in range(50, 550, 50):\n",
    "#     number_feature_to_select = i\n",
    "#     rfe, rf, fpr, tpr, thresholds, auc, accuracy, recall,confusion = RFE_RF(X_train, y_train, X_test, y_test, number_feature_to_select)\n",
    "#     print(i)\n",
    "#     n_feature.append(i)\n",
    "#     auc_arr.append(auc)\n",
    "#     accuracy_arr.append(accuracy)\n",
    "#     recall_arr.append(recall)"
   ]
  },
  {
   "cell_type": "code",
   "execution_count": 77,
   "id": "37769cf7",
   "metadata": {
    "ExecuteTime": {
     "end_time": "2023-06-06T15:05:30.455304600Z",
     "start_time": "2023-06-06T15:05:30.441959Z"
    }
   },
   "outputs": [],
   "source": [
    "# print(n_feature)"
   ]
  },
  {
   "cell_type": "code",
   "execution_count": 78,
   "id": "d194f4e9",
   "metadata": {
    "ExecuteTime": {
     "end_time": "2023-06-06T15:05:30.480338500Z",
     "start_time": "2023-06-06T15:05:30.457307600Z"
    }
   },
   "outputs": [],
   "source": [
    "# print(auc_arr)"
   ]
  },
  {
   "cell_type": "code",
   "execution_count": 79,
   "id": "efcb81b1",
   "metadata": {
    "ExecuteTime": {
     "end_time": "2023-06-06T15:05:30.486304900Z",
     "start_time": "2023-06-06T15:05:30.473305300Z"
    }
   },
   "outputs": [],
   "source": [
    "# print(accuracy_arr)"
   ]
  },
  {
   "cell_type": "code",
   "execution_count": 80,
   "id": "80159b01",
   "metadata": {
    "ExecuteTime": {
     "end_time": "2023-06-06T15:05:30.505940700Z",
     "start_time": "2023-06-06T15:05:30.488306600Z"
    }
   },
   "outputs": [],
   "source": [
    "# print(recall_arr)"
   ]
  },
  {
   "cell_type": "code",
   "execution_count": 81,
   "id": "cb0a76fb",
   "metadata": {
    "scrolled": true,
    "ExecuteTime": {
     "end_time": "2023-06-06T15:05:30.517945900Z",
     "start_time": "2023-06-06T15:05:30.504942600Z"
    }
   },
   "outputs": [],
   "source": [
    "# features = np.arange(0, X_train.shape[1], 1, dtype=int)\n",
    "# selected_features = np.array(features)[rfe.get_support()]\n",
    "# selected_features"
   ]
  }
 ],
 "metadata": {
  "kernelspec": {
   "display_name": "Python 3 (ipykernel)",
   "language": "python",
   "name": "python3"
  },
  "language_info": {
   "codemirror_mode": {
    "name": "ipython",
    "version": 3
   },
   "file_extension": ".py",
   "mimetype": "text/x-python",
   "name": "python",
   "nbconvert_exporter": "python",
   "pygments_lexer": "ipython3",
   "version": "3.9.12"
  }
 },
 "nbformat": 4,
 "nbformat_minor": 5
}
